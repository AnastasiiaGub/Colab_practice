{
  "nbformat": 4,
  "nbformat_minor": 0,
  "metadata": {
    "colab": {
      "name": "AB_test.ipynb",
      "provenance": [],
      "collapsed_sections": []
    },
    "kernelspec": {
      "name": "python3",
      "display_name": "Python 3"
    },
    "language_info": {
      "name": "python"
    }
  },
  "cells": [
    {
      "cell_type": "markdown",
      "source": [
        "В этом задании необходимо использовать набор данных ad.csv.\n",
        "\n",
        "1) Датасет содежит 2 столбца: объявление (A/B) и действие (0/1).\n",
        "\n",
        "2) Вам необходимо сформулировать гипотезу, провести ее проверку (пользуясь классическим подходом) и ответить на вопрос какое из объявлений лучше."
      ],
      "metadata": {
        "id": "ZmsVxtXfbvEi"
      }
    },
    {
      "cell_type": "markdown",
      "source": [
        "## **1. Описание задачи**\n",
        "\n",
        "Издательство планирует перевыпуск книги \"Детские сказки\" в новой редакции с картинками, напечатан пробный тираж. Перед маркетоголом стоит задача подтвердить или опровергнуть повышенный спрос на данную продукцию. Для этого в магазине были представлены два варианта издания: a) старый без картинок; b) новый с картинками. Вариант b будет признан успешным в случае повышения конверсии в покупку на 10 %.  "
      ],
      "metadata": {
        "id": "a0ST1vM3crqh"
      }
    },
    {
      "cell_type": "markdown",
      "source": [
        "## **2. Описание гипотез**\n",
        "\n",
        "Для проверки успешности используем двусторонний тест.\n",
        "\n",
        "Нулевая гипотеза H0 - оба варианта изданий продаются с одинаковой конверсией, добавление картинок не повлияло на продажи:\n",
        "\n",
        "\n",
        "Н0 : CR_a = CR_b\n",
        "\n",
        "Альтернативная гипотеза H1 - варианты изданий продаются с разной конверсией:\n",
        "\n",
        "\n",
        "H1 : CR_a ≠ CR_b\n",
        "\n",
        "где CR_a и CR_b - конверсия в покупку старого и нового варианта издания.\n",
        "\n",
        "Доверительный критерий принимаем равным 99%, тогда уровень значимости α = 0.01.\n",
        "\n",
        "Если полученное значение p-value окажется меньше α, то мы отвергаем нулевую гипотезу H0 и рассматриваем альтернативную H1.\n"
      ],
      "metadata": {
        "id": "hJpKb2Ysh9nh"
      }
    },
    {
      "cell_type": "markdown",
      "source": [
        "## **3. Описание исходных данных**\n",
        "\n",
        "*Выбираем две группы:*\n",
        "\n",
        "Группа A - контрольная группа, соответ. старому варианту издания;\n",
        "\n",
        "Группа B - тестовая группа, соответ. новому варианту издания. \n",
        "\n",
        "*Совершаемое действие:*\n",
        "\n",
        "0 - покупка не совершена;\n",
        "\n",
        "1 - покупка совершена.\n",
        "\n",
        "\n"
      ],
      "metadata": {
        "id": "I4tcHOF9iBBp"
      }
    },
    {
      "cell_type": "markdown",
      "source": [
        "## **4. Анализ исходных данных**"
      ],
      "metadata": {
        "id": "bHwqW7lEtKLh"
      }
    },
    {
      "cell_type": "code",
      "source": [
        "import pandas as pd\n",
        "import numpy as np\n",
        "import seaborn as sns\n",
        "import scipy.stats as stats\n",
        "import matplotlib.pyplot as plt\n",
        "\n",
        "## Запрашиваем таблицу результатов тестирования\n",
        "\n",
        "df_books=pd.read_csv('/content/ad.csv')\n",
        "df_books"
      ],
      "metadata": {
        "colab": {
          "base_uri": "https://localhost:8080/",
          "height": 424
        },
        "id": "BLbMicGCtScK",
        "outputId": "a22a834c-a555-41ad-f227-32b38b9dde0b"
      },
      "execution_count": 14,
      "outputs": [
        {
          "output_type": "execute_result",
          "data": {
            "text/html": [
              "\n",
              "  <div id=\"df-b0d78c02-405a-4c80-bb50-271b6ec1cb67\">\n",
              "    <div class=\"colab-df-container\">\n",
              "      <div>\n",
              "<style scoped>\n",
              "    .dataframe tbody tr th:only-of-type {\n",
              "        vertical-align: middle;\n",
              "    }\n",
              "\n",
              "    .dataframe tbody tr th {\n",
              "        vertical-align: top;\n",
              "    }\n",
              "\n",
              "    .dataframe thead th {\n",
              "        text-align: right;\n",
              "    }\n",
              "</style>\n",
              "<table border=\"1\" class=\"dataframe\">\n",
              "  <thead>\n",
              "    <tr style=\"text-align: right;\">\n",
              "      <th></th>\n",
              "      <th>ad_id</th>\n",
              "      <th>action</th>\n",
              "    </tr>\n",
              "  </thead>\n",
              "  <tbody>\n",
              "    <tr>\n",
              "      <th>0</th>\n",
              "      <td>B</td>\n",
              "      <td>1</td>\n",
              "    </tr>\n",
              "    <tr>\n",
              "      <th>1</th>\n",
              "      <td>B</td>\n",
              "      <td>1</td>\n",
              "    </tr>\n",
              "    <tr>\n",
              "      <th>2</th>\n",
              "      <td>A</td>\n",
              "      <td>0</td>\n",
              "    </tr>\n",
              "    <tr>\n",
              "      <th>3</th>\n",
              "      <td>B</td>\n",
              "      <td>0</td>\n",
              "    </tr>\n",
              "    <tr>\n",
              "      <th>4</th>\n",
              "      <td>A</td>\n",
              "      <td>1</td>\n",
              "    </tr>\n",
              "    <tr>\n",
              "      <th>...</th>\n",
              "      <td>...</td>\n",
              "      <td>...</td>\n",
              "    </tr>\n",
              "    <tr>\n",
              "      <th>1995</th>\n",
              "      <td>A</td>\n",
              "      <td>0</td>\n",
              "    </tr>\n",
              "    <tr>\n",
              "      <th>1996</th>\n",
              "      <td>A</td>\n",
              "      <td>0</td>\n",
              "    </tr>\n",
              "    <tr>\n",
              "      <th>1997</th>\n",
              "      <td>A</td>\n",
              "      <td>0</td>\n",
              "    </tr>\n",
              "    <tr>\n",
              "      <th>1998</th>\n",
              "      <td>A</td>\n",
              "      <td>1</td>\n",
              "    </tr>\n",
              "    <tr>\n",
              "      <th>1999</th>\n",
              "      <td>A</td>\n",
              "      <td>0</td>\n",
              "    </tr>\n",
              "  </tbody>\n",
              "</table>\n",
              "<p>2000 rows × 2 columns</p>\n",
              "</div>\n",
              "      <button class=\"colab-df-convert\" onclick=\"convertToInteractive('df-b0d78c02-405a-4c80-bb50-271b6ec1cb67')\"\n",
              "              title=\"Convert this dataframe to an interactive table.\"\n",
              "              style=\"display:none;\">\n",
              "        \n",
              "  <svg xmlns=\"http://www.w3.org/2000/svg\" height=\"24px\"viewBox=\"0 0 24 24\"\n",
              "       width=\"24px\">\n",
              "    <path d=\"M0 0h24v24H0V0z\" fill=\"none\"/>\n",
              "    <path d=\"M18.56 5.44l.94 2.06.94-2.06 2.06-.94-2.06-.94-.94-2.06-.94 2.06-2.06.94zm-11 1L8.5 8.5l.94-2.06 2.06-.94-2.06-.94L8.5 2.5l-.94 2.06-2.06.94zm10 10l.94 2.06.94-2.06 2.06-.94-2.06-.94-.94-2.06-.94 2.06-2.06.94z\"/><path d=\"M17.41 7.96l-1.37-1.37c-.4-.4-.92-.59-1.43-.59-.52 0-1.04.2-1.43.59L10.3 9.45l-7.72 7.72c-.78.78-.78 2.05 0 2.83L4 21.41c.39.39.9.59 1.41.59.51 0 1.02-.2 1.41-.59l7.78-7.78 2.81-2.81c.8-.78.8-2.07 0-2.86zM5.41 20L4 18.59l7.72-7.72 1.47 1.35L5.41 20z\"/>\n",
              "  </svg>\n",
              "      </button>\n",
              "      \n",
              "  <style>\n",
              "    .colab-df-container {\n",
              "      display:flex;\n",
              "      flex-wrap:wrap;\n",
              "      gap: 12px;\n",
              "    }\n",
              "\n",
              "    .colab-df-convert {\n",
              "      background-color: #E8F0FE;\n",
              "      border: none;\n",
              "      border-radius: 50%;\n",
              "      cursor: pointer;\n",
              "      display: none;\n",
              "      fill: #1967D2;\n",
              "      height: 32px;\n",
              "      padding: 0 0 0 0;\n",
              "      width: 32px;\n",
              "    }\n",
              "\n",
              "    .colab-df-convert:hover {\n",
              "      background-color: #E2EBFA;\n",
              "      box-shadow: 0px 1px 2px rgba(60, 64, 67, 0.3), 0px 1px 3px 1px rgba(60, 64, 67, 0.15);\n",
              "      fill: #174EA6;\n",
              "    }\n",
              "\n",
              "    [theme=dark] .colab-df-convert {\n",
              "      background-color: #3B4455;\n",
              "      fill: #D2E3FC;\n",
              "    }\n",
              "\n",
              "    [theme=dark] .colab-df-convert:hover {\n",
              "      background-color: #434B5C;\n",
              "      box-shadow: 0px 1px 3px 1px rgba(0, 0, 0, 0.15);\n",
              "      filter: drop-shadow(0px 1px 2px rgba(0, 0, 0, 0.3));\n",
              "      fill: #FFFFFF;\n",
              "    }\n",
              "  </style>\n",
              "\n",
              "      <script>\n",
              "        const buttonEl =\n",
              "          document.querySelector('#df-b0d78c02-405a-4c80-bb50-271b6ec1cb67 button.colab-df-convert');\n",
              "        buttonEl.style.display =\n",
              "          google.colab.kernel.accessAllowed ? 'block' : 'none';\n",
              "\n",
              "        async function convertToInteractive(key) {\n",
              "          const element = document.querySelector('#df-b0d78c02-405a-4c80-bb50-271b6ec1cb67');\n",
              "          const dataTable =\n",
              "            await google.colab.kernel.invokeFunction('convertToInteractive',\n",
              "                                                     [key], {});\n",
              "          if (!dataTable) return;\n",
              "\n",
              "          const docLinkHtml = 'Like what you see? Visit the ' +\n",
              "            '<a target=\"_blank\" href=https://colab.research.google.com/notebooks/data_table.ipynb>data table notebook</a>'\n",
              "            + ' to learn more about interactive tables.';\n",
              "          element.innerHTML = '';\n",
              "          dataTable['output_type'] = 'display_data';\n",
              "          await google.colab.output.renderOutput(dataTable, element);\n",
              "          const docLink = document.createElement('div');\n",
              "          docLink.innerHTML = docLinkHtml;\n",
              "          element.appendChild(docLink);\n",
              "        }\n",
              "      </script>\n",
              "    </div>\n",
              "  </div>\n",
              "  "
            ],
            "text/plain": [
              "     ad_id  action\n",
              "0        B       1\n",
              "1        B       1\n",
              "2        A       0\n",
              "3        B       0\n",
              "4        A       1\n",
              "...    ...     ...\n",
              "1995     A       0\n",
              "1996     A       0\n",
              "1997     A       0\n",
              "1998     A       1\n",
              "1999     A       0\n",
              "\n",
              "[2000 rows x 2 columns]"
            ]
          },
          "metadata": {},
          "execution_count": 14
        }
      ]
    },
    {
      "cell_type": "markdown",
      "source": [
        "Всего 2000 записей:\n",
        "\n",
        "\n",
        "ad_id - идентификатор группы\n",
        "\n",
        "\n",
        "action - совершаемое действие"
      ],
      "metadata": {
        "id": "eGiap-ypwn83"
      }
    },
    {
      "cell_type": "code",
      "source": [
        "## Запрашиваем таблицу результатов тестирования\n",
        "\n",
        "df_books2=pd.crosstab(df_books['ad_id'], df_books['action'])\n",
        "df_books2=df_books2.assign(count = df_books2.sum(axis=1))\n",
        "df_books2.columns = ['no_buy', 'yes_buy', 'total'] \n",
        "df_books2\n"
      ],
      "metadata": {
        "colab": {
          "base_uri": "https://localhost:8080/",
          "height": 143
        },
        "id": "EpxdFUESny__",
        "outputId": "e1e01ded-dbaf-4557-f00d-dfc04ee530c0"
      },
      "execution_count": 15,
      "outputs": [
        {
          "output_type": "execute_result",
          "data": {
            "text/html": [
              "\n",
              "  <div id=\"df-23dbfd0d-07da-4e03-b82b-5b5953feda55\">\n",
              "    <div class=\"colab-df-container\">\n",
              "      <div>\n",
              "<style scoped>\n",
              "    .dataframe tbody tr th:only-of-type {\n",
              "        vertical-align: middle;\n",
              "    }\n",
              "\n",
              "    .dataframe tbody tr th {\n",
              "        vertical-align: top;\n",
              "    }\n",
              "\n",
              "    .dataframe thead th {\n",
              "        text-align: right;\n",
              "    }\n",
              "</style>\n",
              "<table border=\"1\" class=\"dataframe\">\n",
              "  <thead>\n",
              "    <tr style=\"text-align: right;\">\n",
              "      <th></th>\n",
              "      <th>no_buy</th>\n",
              "      <th>yes_buy</th>\n",
              "      <th>total</th>\n",
              "    </tr>\n",
              "    <tr>\n",
              "      <th>ad_id</th>\n",
              "      <th></th>\n",
              "      <th></th>\n",
              "      <th></th>\n",
              "    </tr>\n",
              "  </thead>\n",
              "  <tbody>\n",
              "    <tr>\n",
              "      <th>A</th>\n",
              "      <td>696</td>\n",
              "      <td>304</td>\n",
              "      <td>1000</td>\n",
              "    </tr>\n",
              "    <tr>\n",
              "      <th>B</th>\n",
              "      <td>628</td>\n",
              "      <td>372</td>\n",
              "      <td>1000</td>\n",
              "    </tr>\n",
              "  </tbody>\n",
              "</table>\n",
              "</div>\n",
              "      <button class=\"colab-df-convert\" onclick=\"convertToInteractive('df-23dbfd0d-07da-4e03-b82b-5b5953feda55')\"\n",
              "              title=\"Convert this dataframe to an interactive table.\"\n",
              "              style=\"display:none;\">\n",
              "        \n",
              "  <svg xmlns=\"http://www.w3.org/2000/svg\" height=\"24px\"viewBox=\"0 0 24 24\"\n",
              "       width=\"24px\">\n",
              "    <path d=\"M0 0h24v24H0V0z\" fill=\"none\"/>\n",
              "    <path d=\"M18.56 5.44l.94 2.06.94-2.06 2.06-.94-2.06-.94-.94-2.06-.94 2.06-2.06.94zm-11 1L8.5 8.5l.94-2.06 2.06-.94-2.06-.94L8.5 2.5l-.94 2.06-2.06.94zm10 10l.94 2.06.94-2.06 2.06-.94-2.06-.94-.94-2.06-.94 2.06-2.06.94z\"/><path d=\"M17.41 7.96l-1.37-1.37c-.4-.4-.92-.59-1.43-.59-.52 0-1.04.2-1.43.59L10.3 9.45l-7.72 7.72c-.78.78-.78 2.05 0 2.83L4 21.41c.39.39.9.59 1.41.59.51 0 1.02-.2 1.41-.59l7.78-7.78 2.81-2.81c.8-.78.8-2.07 0-2.86zM5.41 20L4 18.59l7.72-7.72 1.47 1.35L5.41 20z\"/>\n",
              "  </svg>\n",
              "      </button>\n",
              "      \n",
              "  <style>\n",
              "    .colab-df-container {\n",
              "      display:flex;\n",
              "      flex-wrap:wrap;\n",
              "      gap: 12px;\n",
              "    }\n",
              "\n",
              "    .colab-df-convert {\n",
              "      background-color: #E8F0FE;\n",
              "      border: none;\n",
              "      border-radius: 50%;\n",
              "      cursor: pointer;\n",
              "      display: none;\n",
              "      fill: #1967D2;\n",
              "      height: 32px;\n",
              "      padding: 0 0 0 0;\n",
              "      width: 32px;\n",
              "    }\n",
              "\n",
              "    .colab-df-convert:hover {\n",
              "      background-color: #E2EBFA;\n",
              "      box-shadow: 0px 1px 2px rgba(60, 64, 67, 0.3), 0px 1px 3px 1px rgba(60, 64, 67, 0.15);\n",
              "      fill: #174EA6;\n",
              "    }\n",
              "\n",
              "    [theme=dark] .colab-df-convert {\n",
              "      background-color: #3B4455;\n",
              "      fill: #D2E3FC;\n",
              "    }\n",
              "\n",
              "    [theme=dark] .colab-df-convert:hover {\n",
              "      background-color: #434B5C;\n",
              "      box-shadow: 0px 1px 3px 1px rgba(0, 0, 0, 0.15);\n",
              "      filter: drop-shadow(0px 1px 2px rgba(0, 0, 0, 0.3));\n",
              "      fill: #FFFFFF;\n",
              "    }\n",
              "  </style>\n",
              "\n",
              "      <script>\n",
              "        const buttonEl =\n",
              "          document.querySelector('#df-23dbfd0d-07da-4e03-b82b-5b5953feda55 button.colab-df-convert');\n",
              "        buttonEl.style.display =\n",
              "          google.colab.kernel.accessAllowed ? 'block' : 'none';\n",
              "\n",
              "        async function convertToInteractive(key) {\n",
              "          const element = document.querySelector('#df-23dbfd0d-07da-4e03-b82b-5b5953feda55');\n",
              "          const dataTable =\n",
              "            await google.colab.kernel.invokeFunction('convertToInteractive',\n",
              "                                                     [key], {});\n",
              "          if (!dataTable) return;\n",
              "\n",
              "          const docLinkHtml = 'Like what you see? Visit the ' +\n",
              "            '<a target=\"_blank\" href=https://colab.research.google.com/notebooks/data_table.ipynb>data table notebook</a>'\n",
              "            + ' to learn more about interactive tables.';\n",
              "          element.innerHTML = '';\n",
              "          dataTable['output_type'] = 'display_data';\n",
              "          await google.colab.output.renderOutput(dataTable, element);\n",
              "          const docLink = document.createElement('div');\n",
              "          docLink.innerHTML = docLinkHtml;\n",
              "          element.appendChild(docLink);\n",
              "        }\n",
              "      </script>\n",
              "    </div>\n",
              "  </div>\n",
              "  "
            ],
            "text/plain": [
              "       no_buy  yes_buy  total\n",
              "ad_id                        \n",
              "A         696      304   1000\n",
              "B         628      372   1000"
            ]
          },
          "metadata": {},
          "execution_count": 15
        }
      ]
    },
    {
      "cell_type": "markdown",
      "source": [
        "Подтверждаем: \n",
        "\n",
        "наличие данных 2х групп A и B;\n",
        "\n",
        "совершаемое действие имеет значения только 0 или 1;\n",
        "\n",
        "в каждой из групп по 1000 действий."
      ],
      "metadata": {
        "id": "-p2MXqW5xzV_"
      }
    },
    {
      "cell_type": "code",
      "source": [
        "## Визуализируем таблицу результатов тестирования\n",
        "\n",
        "sns.histplot(data=df_books, y=\"action\", hue=\"ad_id\", multiple=\"dodge\", palette = \"husl\")"
      ],
      "metadata": {
        "colab": {
          "base_uri": "https://localhost:8080/",
          "height": 296
        },
        "id": "iLFxMllT00yu",
        "outputId": "3c577f20-fa8d-4810-dc47-b6de61dc1ba5"
      },
      "execution_count": 16,
      "outputs": [
        {
          "output_type": "execute_result",
          "data": {
            "text/plain": [
              "<matplotlib.axes._subplots.AxesSubplot at 0x7ffa4333ec50>"
            ]
          },
          "metadata": {},
          "execution_count": 16
        },
        {
          "output_type": "display_data",
          "data": {
            "image/png": "[encoded data removed]",
            "text/plain": [
              "<Figure size 432x288 with 1 Axes>"
            ]
          },
          "metadata": {
            "needs_background": "light"
          }
        }
      ]
    },
    {
      "cell_type": "markdown",
      "source": [
        "Предварительный вывод:\n",
        "По данным графика видно, что в группе В, людей совершивших покупку, больше и следовательно конверсия лучше."
      ],
      "metadata": {
        "id": "RyEnmyA93pbF"
      }
    },
    {
      "cell_type": "markdown",
      "source": [
        "## **5. Анализ статистических данных**"
      ],
      "metadata": {
        "id": "mMw-Lmso7VQy"
      }
    },
    {
      "cell_type": "code",
      "source": [
        "## Для расчета статистических данных группируем таблицу по идентификатору группы (an_id), агрегацию проводим по столбцу action. \n",
        "df_books3=df_books.groupby('ad_id')['action']\n",
        "\n",
        "## Задаем функции стандартного отклонения и ошибки через анонимную функцию lambda.\n",
        "std_p = lambda x: np.std(x, ddof=0)\n",
        "se_p = lambda x: stats.sem(x, ddof=0)\n",
        "\n",
        "## Проводим расчет конверсии (среднего), стандартного отклонения и ошибки.\n",
        "df_books3 = df_books3.agg([np.mean, std_p, se_p]) \n",
        "df_books3.columns = ['conversion', 'std_deviation', 'std_error'] \n",
        "\n",
        "## Объединяем исходные и полученные стат. данные: \n",
        "df_books2 = df_books2.assign(conversion=df_books3['conversion'],std_deviation=df_books3['std_deviation'],std_error=df_books3['std_error'])\n",
        "df_books2\n"
      ],
      "metadata": {
        "colab": {
          "base_uri": "https://localhost:8080/",
          "height": 143
        },
        "id": "zQjVYCHA7ibj",
        "outputId": "5117625d-ea87-458a-8cdf-f5654e4877cd"
      },
      "execution_count": 17,
      "outputs": [
        {
          "output_type": "execute_result",
          "data": {
            "text/html": [
              "\n",
              "  <div id=\"df-dc53c774-368e-4da4-b14e-dc51b28b242c\">\n",
              "    <div class=\"colab-df-container\">\n",
              "      <div>\n",
              "<style scoped>\n",
              "    .dataframe tbody tr th:only-of-type {\n",
              "        vertical-align: middle;\n",
              "    }\n",
              "\n",
              "    .dataframe tbody tr th {\n",
              "        vertical-align: top;\n",
              "    }\n",
              "\n",
              "    .dataframe thead th {\n",
              "        text-align: right;\n",
              "    }\n",
              "</style>\n",
              "<table border=\"1\" class=\"dataframe\">\n",
              "  <thead>\n",
              "    <tr style=\"text-align: right;\">\n",
              "      <th></th>\n",
              "      <th>no_buy</th>\n",
              "      <th>yes_buy</th>\n",
              "      <th>total</th>\n",
              "      <th>conversion</th>\n",
              "      <th>std_deviation</th>\n",
              "      <th>std_error</th>\n",
              "    </tr>\n",
              "    <tr>\n",
              "      <th>ad_id</th>\n",
              "      <th></th>\n",
              "      <th></th>\n",
              "      <th></th>\n",
              "      <th></th>\n",
              "      <th></th>\n",
              "      <th></th>\n",
              "    </tr>\n",
              "  </thead>\n",
              "  <tbody>\n",
              "    <tr>\n",
              "      <th>A</th>\n",
              "      <td>696</td>\n",
              "      <td>304</td>\n",
              "      <td>1000</td>\n",
              "      <td>0.304</td>\n",
              "      <td>0.459983</td>\n",
              "      <td>0.014546</td>\n",
              "    </tr>\n",
              "    <tr>\n",
              "      <th>B</th>\n",
              "      <td>628</td>\n",
              "      <td>372</td>\n",
              "      <td>1000</td>\n",
              "      <td>0.372</td>\n",
              "      <td>0.483338</td>\n",
              "      <td>0.015285</td>\n",
              "    </tr>\n",
              "  </tbody>\n",
              "</table>\n",
              "</div>\n",
              "      <button class=\"colab-df-convert\" onclick=\"convertToInteractive('df-dc53c774-368e-4da4-b14e-dc51b28b242c')\"\n",
              "              title=\"Convert this dataframe to an interactive table.\"\n",
              "              style=\"display:none;\">\n",
              "        \n",
              "  <svg xmlns=\"http://www.w3.org/2000/svg\" height=\"24px\"viewBox=\"0 0 24 24\"\n",
              "       width=\"24px\">\n",
              "    <path d=\"M0 0h24v24H0V0z\" fill=\"none\"/>\n",
              "    <path d=\"M18.56 5.44l.94 2.06.94-2.06 2.06-.94-2.06-.94-.94-2.06-.94 2.06-2.06.94zm-11 1L8.5 8.5l.94-2.06 2.06-.94-2.06-.94L8.5 2.5l-.94 2.06-2.06.94zm10 10l.94 2.06.94-2.06 2.06-.94-2.06-.94-.94-2.06-.94 2.06-2.06.94z\"/><path d=\"M17.41 7.96l-1.37-1.37c-.4-.4-.92-.59-1.43-.59-.52 0-1.04.2-1.43.59L10.3 9.45l-7.72 7.72c-.78.78-.78 2.05 0 2.83L4 21.41c.39.39.9.59 1.41.59.51 0 1.02-.2 1.41-.59l7.78-7.78 2.81-2.81c.8-.78.8-2.07 0-2.86zM5.41 20L4 18.59l7.72-7.72 1.47 1.35L5.41 20z\"/>\n",
              "  </svg>\n",
              "      </button>\n",
              "      \n",
              "  <style>\n",
              "    .colab-df-container {\n",
              "      display:flex;\n",
              "      flex-wrap:wrap;\n",
              "      gap: 12px;\n",
              "    }\n",
              "\n",
              "    .colab-df-convert {\n",
              "      background-color: #E8F0FE;\n",
              "      border: none;\n",
              "      border-radius: 50%;\n",
              "      cursor: pointer;\n",
              "      display: none;\n",
              "      fill: #1967D2;\n",
              "      height: 32px;\n",
              "      padding: 0 0 0 0;\n",
              "      width: 32px;\n",
              "    }\n",
              "\n",
              "    .colab-df-convert:hover {\n",
              "      background-color: #E2EBFA;\n",
              "      box-shadow: 0px 1px 2px rgba(60, 64, 67, 0.3), 0px 1px 3px 1px rgba(60, 64, 67, 0.15);\n",
              "      fill: #174EA6;\n",
              "    }\n",
              "\n",
              "    [theme=dark] .colab-df-convert {\n",
              "      background-color: #3B4455;\n",
              "      fill: #D2E3FC;\n",
              "    }\n",
              "\n",
              "    [theme=dark] .colab-df-convert:hover {\n",
              "      background-color: #434B5C;\n",
              "      box-shadow: 0px 1px 3px 1px rgba(0, 0, 0, 0.15);\n",
              "      filter: drop-shadow(0px 1px 2px rgba(0, 0, 0, 0.3));\n",
              "      fill: #FFFFFF;\n",
              "    }\n",
              "  </style>\n",
              "\n",
              "      <script>\n",
              "        const buttonEl =\n",
              "          document.querySelector('#df-dc53c774-368e-4da4-b14e-dc51b28b242c button.colab-df-convert');\n",
              "        buttonEl.style.display =\n",
              "          google.colab.kernel.accessAllowed ? 'block' : 'none';\n",
              "\n",
              "        async function convertToInteractive(key) {\n",
              "          const element = document.querySelector('#df-dc53c774-368e-4da4-b14e-dc51b28b242c');\n",
              "          const dataTable =\n",
              "            await google.colab.kernel.invokeFunction('convertToInteractive',\n",
              "                                                     [key], {});\n",
              "          if (!dataTable) return;\n",
              "\n",
              "          const docLinkHtml = 'Like what you see? Visit the ' +\n",
              "            '<a target=\"_blank\" href=https://colab.research.google.com/notebooks/data_table.ipynb>data table notebook</a>'\n",
              "            + ' to learn more about interactive tables.';\n",
              "          element.innerHTML = '';\n",
              "          dataTable['output_type'] = 'display_data';\n",
              "          await google.colab.output.renderOutput(dataTable, element);\n",
              "          const docLink = document.createElement('div');\n",
              "          docLink.innerHTML = docLinkHtml;\n",
              "          element.appendChild(docLink);\n",
              "        }\n",
              "      </script>\n",
              "    </div>\n",
              "  </div>\n",
              "  "
            ],
            "text/plain": [
              "       no_buy  yes_buy  total  conversion  std_deviation  std_error\n",
              "ad_id                                                              \n",
              "A         696      304   1000       0.304       0.459983   0.014546\n",
              "B         628      372   1000       0.372       0.483338   0.015285"
            ]
          },
          "metadata": {},
          "execution_count": 17
        }
      ]
    },
    {
      "cell_type": "markdown",
      "source": [
        "Предварительный вывод: Полученные результаты показывают, что новое издание книги с картинками работает немного лучше. Конверсия составляет 37,2 % против 30,4 %."
      ],
      "metadata": {
        "id": "wddbWRJcO_zo"
      }
    },
    {
      "cell_type": "markdown",
      "source": [
        "## **6. Визуализация конверсии**"
      ],
      "metadata": {
        "id": "zx2ZdISxQ9l4"
      }
    },
    {
      "cell_type": "code",
      "source": [
        "plt.figure(figsize=(5,4)) \n",
        "\n",
        "sns.barplot(x=df_books['ad_id'], y=df_books['action'], palette = \"husl\") \n",
        "\n",
        "plt.title( 'Конверсии по группам') \n",
        "plt.xlabel('Группа') \n",
        "plt.ylabel('Конверсия')"
      ],
      "metadata": {
        "colab": {
          "base_uri": "https://localhost:8080/",
          "height": 312
        },
        "id": "ZEQDKhe7RX3y",
        "outputId": "b5196232-47b0-40cb-9f10-e85d4d459401"
      },
      "execution_count": 18,
      "outputs": [
        {
          "output_type": "execute_result",
          "data": {
            "text/plain": [
              "Text(0, 0.5, 'Конверсия')"
            ]
          },
          "metadata": {},
          "execution_count": 18
        },
        {
          "output_type": "display_data",
          "data": {
            "image/png": "[encoded data removed]",
            "text/plain": [
              "<Figure size 360x288 with 1 Axes>"
            ]
          },
          "metadata": {
            "needs_background": "light"
          }
        }
      ]
    },
    {
      "cell_type": "markdown",
      "source": [
        "## **7. Проверка гипотез.**"
      ],
      "metadata": {
        "id": "H1pKgkCwVam_"
      }
    },
    {
      "cell_type": "code",
      "source": [
        "## Анализируемые данные принимают только два значения 0 и 1, поэтому используем критерий Z-статистики для получения значения p_value\n",
        "\n",
        "from statsmodels.stats.proportion import proportions_ztest, proportion_confint\n",
        "\n",
        "## В качестве count указываем общее количество совершивших покупку по группам, в качестве nobs общее кол-во выборки\n",
        "z_stat, p_value = proportions_ztest(df_books2['yes_buy'], df_books2['total'])\n",
        "\n",
        "print('Значение z-statistic:', z_stat)\n",
        "print('Значение p-value:', p_value)"
      ],
      "metadata": {
        "colab": {
          "base_uri": "https://localhost:8080/"
        },
        "id": "4e-oIQbUVUEI",
        "outputId": "321979d5-acfe-4c45-a650-5f8aeb86d04d"
      },
      "execution_count": 19,
      "outputs": [
        {
          "output_type": "stream",
          "name": "stdout",
          "text": [
            "Значение z-statistic: -3.2144492244084213\n",
            "Значение p-value: 0.0013069502732125403\n"
          ]
        }
      ]
    },
    {
      "cell_type": "code",
      "source": [
        "## Проверяем нулевую гипотезу. Сравниваем p-value c нашим уровнем значимости α.\n",
        "alpha = 0.01\n",
        "print(p_value < alpha)"
      ],
      "metadata": {
        "colab": {
          "base_uri": "https://localhost:8080/"
        },
        "id": "d00nXrGKii6L",
        "outputId": "a6b52a75-aa1d-41bd-fe8e-383a356be92e"
      },
      "execution_count": 20,
      "outputs": [
        {
          "output_type": "stream",
          "name": "stdout",
          "text": [
            "True\n"
          ]
        }
      ]
    },
    {
      "cell_type": "markdown",
      "source": [
        "Промежуточный вывод: Значение p-value меньше порога ошибки первого рода — результат теста является статзначимым"
      ],
      "metadata": {
        "id": "IxhjRLJj8Jbg"
      }
    },
    {
      "cell_type": "markdown",
      "source": [
        "## **8. Расчет доверительного интервала**"
      ],
      "metadata": {
        "id": "8Pwaefcj08oa"
      }
    },
    {
      "cell_type": "code",
      "source": [
        "## Проводим расчет доверительных интервалов конверсий по группам с учетом уровня значимости α. \n",
        "(CR_a_low, CR_b_low), (CR_a_up, CR_b_up) = proportion_confint(df_books2['yes_buy'], df_books2['total'], alpha=alpha)\n",
        "\n",
        "print('Доверительный интервал для контрольной группы A:', CR_a_low, ' - ', CR_a_up)\n",
        "print('Доверительный интервал для тестовой группы B:', CR_b_low, ' - ', CR_b_up)"
      ],
      "metadata": {
        "colab": {
          "base_uri": "https://localhost:8080/"
        },
        "id": "Mq0UVCGjsIfg",
        "outputId": "43312091-6fa1-48c1-cae9-0edfab48378f"
      },
      "execution_count": 21,
      "outputs": [
        {
          "output_type": "stream",
          "name": "stdout",
          "text": [
            "Доверительный интервал для контрольной группы A: 0.26653217430340437  -  0.3414678256965956\n",
            "Доверительный интервал для тестовой группы B: 0.3326297319752053  -  0.4113702680247947\n"
          ]
        }
      ]
    },
    {
      "cell_type": "code",
      "source": [
        "## Проверяем наше исходное условие успешности - рост конверсии на 10% (CR_diff). \n",
        "## Сверяем с разницей между максимальным порогом конверсии тестовой группы (41,1%) и базовым значением контрольной (30,4%). \n",
        "\n",
        "CR_diff = 0.1\n",
        "\n",
        "print ((CR_b_up-df_books2['conversion']['A'])>=CR_diff)"
      ],
      "metadata": {
        "colab": {
          "base_uri": "https://localhost:8080/"
        },
        "id": "y9gTvxYGsu3i",
        "outputId": "c884025b-43c9-4a79-a881-5da20a7931b8"
      },
      "execution_count": 22,
      "outputs": [
        {
          "output_type": "stream",
          "name": "stdout",
          "text": [
            "True\n"
          ]
        }
      ]
    },
    {
      "cell_type": "markdown",
      "source": [
        "Итоговый вывод: Диапaзон доверительного интервала для тестовой группы составляет от 33% до 41%. Этот интервал не включает в себя базовую конверсию 30,4%. Но включает целевое значение к которому мы стремились 40% (10% роста). Новое издание продается успешнее чем старое. "
      ],
      "metadata": {
        "id": "LhVoQwot1mBg"
      }
    }
  ]
}