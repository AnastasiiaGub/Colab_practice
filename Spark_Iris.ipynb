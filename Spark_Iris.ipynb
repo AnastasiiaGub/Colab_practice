{
  "nbformat": 4,
  "nbformat_minor": 0,
  "metadata": {
    "colab": {
      "name": "Spark_Iris.ipynb",
      "provenance": [],
      "collapsed_sections": []
    },
    "kernelspec": {
      "name": "python3",
      "display_name": "Python 3"
    },
    "language_info": {
      "name": "python"
    }
  },
  "cells": [
    {
      "cell_type": "markdown",
      "source": [
        "**Установка pysparc**"
      ],
      "metadata": {
        "id": "SO2r2hlWzGDv"
      }
    },
    {
      "cell_type": "code",
      "execution_count": 1,
      "metadata": {
        "colab": {
          "base_uri": "https://localhost:8080/"
        },
        "id": "N9fmrQ2lkTn1",
        "outputId": "a08e1e5a-3175-4824-bf01-7325449dbc10"
      },
      "outputs": [
        {
          "output_type": "stream",
          "name": "stdout",
          "text": [
            "Requirement already satisfied: pyspark in /usr/local/lib/python3.7/dist-packages (3.2.1)\n",
            "Requirement already satisfied: py4j==0.10.9.3 in /usr/local/lib/python3.7/dist-packages (from pyspark) (0.10.9.3)\n"
          ]
        }
      ],
      "source": [
        "!pip install pyspark"
      ]
    },
    {
      "cell_type": "markdown",
      "source": [
        "**Загрузка библиотек**"
      ],
      "metadata": {
        "id": "Dz34C_VFzbWp"
      }
    },
    {
      "cell_type": "code",
      "source": [
        "import pandas as pd\n",
        "import numpy as np\n",
        "\n",
        "from pyspark.context import SparkContext\n",
        "from pyspark.sql.session import SparkSession \n",
        "\n",
        "sc = SparkContext('local') \n",
        "spark = SparkSession(sc)"
      ],
      "metadata": {
        "id": "zFFFbkPePYBN"
      },
      "execution_count": 2,
      "outputs": []
    },
    {
      "cell_type": "markdown",
      "source": [
        "**1. Загрузка данных при помощи spark.read.csv из приложенного файла.**"
      ],
      "metadata": {
        "id": "Mj1Pyj13yP_D"
      }
    },
    {
      "cell_type": "code",
      "source": [
        "#header=True - Для чтения использует первую строку как имена столбцов. \n",
        "#inferSchema=True - При установке автоматически просматривает CSV-файл и выводит схему каждого столбца (тип столбца).\n",
        "#quote=\"\" - Для чтения, если вы хотите отключить кавычки, вам нужно задать не null а пустую строку. \n",
        "\n",
        "iris_df = spark.read.csv('iris.csv', header=True, inferSchema=True, quote=\"\")"
      ],
      "metadata": {
        "id": "d63P9pdIz5XI"
      },
      "execution_count": 4,
      "outputs": []
    },
    {
      "cell_type": "markdown",
      "source": [
        "**2. Вывод 5 первых строк данных.**"
      ],
      "metadata": {
        "id": "6_B1Fw9_6JM5"
      }
    },
    {
      "cell_type": "code",
      "source": [
        "#вывод 5 первых строк\n",
        "iris_df.show(5)"
      ],
      "metadata": {
        "colab": {
          "base_uri": "https://localhost:8080/"
        },
        "id": "JotFo6je6VaJ",
        "outputId": "da858a71-129f-4ba8-f940-b63a3b6ac1e7"
      },
      "execution_count": 5,
      "outputs": [
        {
          "output_type": "stream",
          "name": "stdout",
          "text": [
            "+-------------+---------------+----------------+---------------+------------+\n",
            "|\"sepal.length|\"\"sepal.width\"\"|\"\"petal.length\"\"|\"\"petal.width\"\"|\"\"variety\"\"\"|\n",
            "+-------------+---------------+----------------+---------------+------------+\n",
            "|         \"5.1|            3.5|             1.4|            0.2| \"\"Setosa\"\"\"|\n",
            "|         \"4.9|            3.0|             1.4|            0.2| \"\"Setosa\"\"\"|\n",
            "|         \"4.7|            3.2|             1.3|            0.2| \"\"Setosa\"\"\"|\n",
            "|         \"4.6|            3.1|             1.5|            0.2| \"\"Setosa\"\"\"|\n",
            "|           \"5|            3.6|             1.4|            0.2| \"\"Setosa\"\"\"|\n",
            "+-------------+---------------+----------------+---------------+------------+\n",
            "only showing top 5 rows\n",
            "\n"
          ]
        }
      ]
    },
    {
      "cell_type": "code",
      "source": [
        "#Типы атрибутов\n",
        "iris_df.printSchema()"
      ],
      "metadata": {
        "colab": {
          "base_uri": "https://localhost:8080/"
        },
        "id": "WWra7ZBxXuQ4",
        "outputId": "56f72d86-c302-4af2-da3e-62b4c856621e"
      },
      "execution_count": 6,
      "outputs": [
        {
          "output_type": "stream",
          "name": "stdout",
          "text": [
            "root\n",
            " |-- \"sepal.length: string (nullable = true)\n",
            " |-- \"\"sepal.width\"\": double (nullable = true)\n",
            " |-- \"\"petal.length\"\": double (nullable = true)\n",
            " |-- \"\"petal.width\"\": double (nullable = true)\n",
            " |-- \"\"variety\"\"\": string (nullable = true)\n",
            "\n"
          ]
        }
      ]
    },
    {
      "cell_type": "code",
      "source": [
        "#преобразуем названия колонок, без учета ''''\n",
        "iris_df = iris_df.toDF(\"sepal_length\",\"sepal_width\",\"petal_length\",\"petal_width\",\"variety\")\n",
        "iris_df.show(5)"
      ],
      "metadata": {
        "colab": {
          "base_uri": "https://localhost:8080/"
        },
        "id": "94I2F1T6-2lr",
        "outputId": "185bec5c-d8d7-427d-f9fb-ec4abc1b904c"
      },
      "execution_count": 7,
      "outputs": [
        {
          "output_type": "stream",
          "name": "stdout",
          "text": [
            "+------------+-----------+------------+-----------+-----------+\n",
            "|sepal_length|sepal_width|petal_length|petal_width|    variety|\n",
            "+------------+-----------+------------+-----------+-----------+\n",
            "|        \"5.1|        3.5|         1.4|        0.2|\"\"Setosa\"\"\"|\n",
            "|        \"4.9|        3.0|         1.4|        0.2|\"\"Setosa\"\"\"|\n",
            "|        \"4.7|        3.2|         1.3|        0.2|\"\"Setosa\"\"\"|\n",
            "|        \"4.6|        3.1|         1.5|        0.2|\"\"Setosa\"\"\"|\n",
            "|          \"5|        3.6|         1.4|        0.2|\"\"Setosa\"\"\"|\n",
            "+------------+-----------+------------+-----------+-----------+\n",
            "only showing top 5 rows\n",
            "\n"
          ]
        }
      ]
    },
    {
      "cell_type": "code",
      "source": [
        "#в значениях первого и последнего столбца удаляем лишние кавычки\n",
        "\n",
        "from pyspark.sql.functions import *\n",
        "from pyspark.sql.types import DoubleType\n",
        "\n",
        "undue_symbol = '[\"]'   #задаем символ для поиска и исключения\n",
        "iris_df = iris_df.withColumn(\"sepal_length\", regexp_replace(col(\"sepal_length\"), undue_symbol, ''))\\\n",
        "    .withColumn(\"variety\", regexp_replace(col(\"variety\"), undue_symbol, ''))\n",
        "\n",
        "iris_df.show(5)"
      ],
      "metadata": {
        "colab": {
          "base_uri": "https://localhost:8080/"
        },
        "id": "SE8sXVF_l5Bs",
        "outputId": "60964da1-5e98-4724-f02a-e6d71fd07905"
      },
      "execution_count": 9,
      "outputs": [
        {
          "output_type": "stream",
          "name": "stdout",
          "text": [
            "+------------+-----------+------------+-----------+-------+\n",
            "|sepal_length|sepal_width|petal_length|petal_width|variety|\n",
            "+------------+-----------+------------+-----------+-------+\n",
            "|         5.1|        3.5|         1.4|        0.2| Setosa|\n",
            "|         4.9|        3.0|         1.4|        0.2| Setosa|\n",
            "|         4.7|        3.2|         1.3|        0.2| Setosa|\n",
            "|         4.6|        3.1|         1.5|        0.2| Setosa|\n",
            "|           5|        3.6|         1.4|        0.2| Setosa|\n",
            "+------------+-----------+------------+-----------+-------+\n",
            "only showing top 5 rows\n",
            "\n"
          ]
        }
      ]
    },
    {
      "cell_type": "code",
      "source": [
        "#так как атрибут sepal.length имеет тип данных строка, то нужно переопределить тип в double\n",
        "\n",
        "iris_df = iris_df.withColumn('sepal_length', col('sepal_length').cast(DoubleType()))\n",
        "iris_df.printSchema()"
      ],
      "metadata": {
        "colab": {
          "base_uri": "https://localhost:8080/"
        },
        "id": "oIdEb7aufrR7",
        "outputId": "d112164e-9c5e-46d5-90cb-aa4672c48987"
      },
      "execution_count": 10,
      "outputs": [
        {
          "output_type": "stream",
          "name": "stdout",
          "text": [
            "root\n",
            " |-- sepal_length: double (nullable = true)\n",
            " |-- sepal_width: double (nullable = true)\n",
            " |-- petal_length: double (nullable = true)\n",
            " |-- petal_width: double (nullable = true)\n",
            " |-- variety: string (nullable = true)\n",
            "\n"
          ]
        }
      ]
    },
    {
      "cell_type": "code",
      "source": [
        "#вывод итогового датасета после обработки \n",
        "iris_df.show(5)"
      ],
      "metadata": {
        "colab": {
          "base_uri": "https://localhost:8080/"
        },
        "id": "BTOL9AcRNRG2",
        "outputId": "2156aba1-9180-4a11-d55c-ff10bf3cde26"
      },
      "execution_count": 11,
      "outputs": [
        {
          "output_type": "stream",
          "name": "stdout",
          "text": [
            "+------------+-----------+------------+-----------+-------+\n",
            "|sepal_length|sepal_width|petal_length|petal_width|variety|\n",
            "+------------+-----------+------------+-----------+-------+\n",
            "|         5.1|        3.5|         1.4|        0.2| Setosa|\n",
            "|         4.9|        3.0|         1.4|        0.2| Setosa|\n",
            "|         4.7|        3.2|         1.3|        0.2| Setosa|\n",
            "|         4.6|        3.1|         1.5|        0.2| Setosa|\n",
            "|         5.0|        3.6|         1.4|        0.2| Setosa|\n",
            "+------------+-----------+------------+-----------+-------+\n",
            "only showing top 5 rows\n",
            "\n"
          ]
        }
      ]
    },
    {
      "cell_type": "markdown",
      "source": [
        "**3. Используем команды groupBy, max, min и avg, чтобы вывести максимальное минимальное и среднее значение каждого из атрибутов цветка ('sepal_length','sepal_width','petal_length','petal_width').**"
      ],
      "metadata": {
        "id": "pC5kfUIMprp9"
      }
    },
    {
      "cell_type": "code",
      "source": [
        "# Выводим основные стат. показатели \n",
        "iris_df.describe().show()"
      ],
      "metadata": {
        "colab": {
          "base_uri": "https://localhost:8080/"
        },
        "id": "TkK_o465qDNF",
        "outputId": "5909f1c5-361c-4594-b1e9-7c71c8adc4a5"
      },
      "execution_count": 19,
      "outputs": [
        {
          "output_type": "stream",
          "name": "stdout",
          "text": [
            "+-------+------------------+-------------------+------------------+------------------+---------+\n",
            "|summary|      sepal_length|        sepal_width|      petal_length|       petal_width|  variety|\n",
            "+-------+------------------+-------------------+------------------+------------------+---------+\n",
            "|  count|               150|                150|               150|               150|      150|\n",
            "|   mean| 5.843333333333335|  3.057333333333334|3.7580000000000027| 1.199333333333334|     null|\n",
            "| stddev|0.8280661279778637|0.43586628493669793|1.7652982332594662|0.7622376689603467|     null|\n",
            "|    min|               4.3|                2.0|               1.0|               0.1|   Setosa|\n",
            "|    max|               7.9|                4.4|               6.9|               2.5|Virginica|\n",
            "+-------+------------------+-------------------+------------------+------------------+---------+\n",
            "\n"
          ]
        }
      ]
    },
    {
      "cell_type": "code",
      "source": [
        "# Группируем по типу/названию цветка и выводим стат. показатели\n",
        "\n",
        "iris_size = iris_df.columns[:-1]   #выборка атрибутов размерности цветка  \n",
        "iris_type = iris_df.columns[-1]    #выборка атрибута типа/названия цветка\n",
        "\n",
        "for i in iris_size:\n",
        "      iris_df.groupBy(iris_type)  \\\n",
        "      .agg(round((avg(i)),2).alias(f\"avg({i})\"),  \\\n",
        "           min(i),  \\\n",
        "           max(i))  \\\n",
        "      .show()"
      ],
      "metadata": {
        "colab": {
          "base_uri": "https://localhost:8080/"
        },
        "id": "h3nqRh2Ktl5_",
        "outputId": "8a97ca05-c771-442e-9dcd-70a65e2b29e5"
      },
      "execution_count": 166,
      "outputs": [
        {
          "output_type": "stream",
          "name": "stdout",
          "text": [
            "+----------+-----------------+-----------------+-----------------+\n",
            "|   variety|avg(sepal_length)|min(sepal_length)|max(sepal_length)|\n",
            "+----------+-----------------+-----------------+-----------------+\n",
            "| Virginica|             6.59|              4.9|              7.9|\n",
            "|    Setosa|             5.01|              4.3|              5.8|\n",
            "|Versicolor|             5.94|              4.9|              7.0|\n",
            "+----------+-----------------+-----------------+-----------------+\n",
            "\n",
            "+----------+----------------+----------------+----------------+\n",
            "|   variety|avg(sepal_width)|min(sepal_width)|max(sepal_width)|\n",
            "+----------+----------------+----------------+----------------+\n",
            "| Virginica|            2.97|             2.2|             3.8|\n",
            "|    Setosa|            3.43|             2.3|             4.4|\n",
            "|Versicolor|            2.77|             2.0|             3.4|\n",
            "+----------+----------------+----------------+----------------+\n",
            "\n",
            "+----------+-----------------+-----------------+-----------------+\n",
            "|   variety|avg(petal_length)|min(petal_length)|max(petal_length)|\n",
            "+----------+-----------------+-----------------+-----------------+\n",
            "| Virginica|             5.55|              4.5|              6.9|\n",
            "|    Setosa|             1.46|              1.0|              1.9|\n",
            "|Versicolor|             4.26|              3.0|              5.1|\n",
            "+----------+-----------------+-----------------+-----------------+\n",
            "\n",
            "+----------+----------------+----------------+----------------+\n",
            "|   variety|avg(petal_width)|min(petal_width)|max(petal_width)|\n",
            "+----------+----------------+----------------+----------------+\n",
            "| Virginica|            2.03|             1.4|             2.5|\n",
            "|    Setosa|            0.25|             0.1|             0.6|\n",
            "|Versicolor|            1.33|             1.0|             1.8|\n",
            "+----------+----------------+----------------+----------------+\n",
            "\n"
          ]
        }
      ]
    },
    {
      "cell_type": "markdown",
      "source": [
        "**4.Строим точечную диаграмму для petal_length и petal_width, раскрашенный по типам цветков.**"
      ],
      "metadata": {
        "id": "8u30YOy14YtB"
      }
    },
    {
      "cell_type": "code",
      "source": [
        "import seaborn as sns\n",
        "import matplotlib.pyplot as plt\n",
        "\n",
        "# Задаем размер графика\n",
        "fig = plt.gcf()\n",
        "fig.set_size_inches(12, 6)\n",
        "\n",
        "# Конвертируем датафрейм в pandas\n",
        "iris_df_pnd = iris_df.toPandas()\n",
        "\n",
        "sns.scatterplot(data=iris_df_pnd, x=\"petal_length\", y=\"petal_width\", hue = \"variety\", palette=['green','orange','brown'], s=100) \\\n",
        ".set(title='Scatter chart for petal_length and petal_width');"
      ],
      "metadata": {
        "colab": {
          "base_uri": "https://localhost:8080/",
          "height": 405
        },
        "id": "h-Kb-HPr4oHx",
        "outputId": "7ee35f1e-c406-4895-c385-06a6697bbfe8"
      },
      "execution_count": 100,
      "outputs": [
        {
          "output_type": "display_data",
          "data": {
            "text/plain": [
              "<Figure size 864x432 with 1 Axes>"
            ],
            "image/png": "[encoded data removed]"
          },
          "metadata": {
            "needs_background": "light"
          }
        }
      ]
    },
    {
      "cell_type": "markdown",
      "source": [
        "**5.Смотрим внимательно на получившийся график и формируем правило вида ЕСЛИ ЗНАЧЕНИЕ ПАРАМЕТРА A < ЗНАЧЕНИЕ, ТО IRIS ОТНОСИТСЯ К КЛАССУ SETOSA -ИНАЧЕ К КАКОМУ-ТО ДРУГОМУ (НАЗОВЕМ, ЕГО НАПРИМЕР UNKNOWN).**"
      ],
      "metadata": {
        "id": "8UNSwwDIBSnx"
      }
    },
    {
      "cell_type": "code",
      "source": [
        "# Условие для типа SETOSA по графику: если petal_length < 2 и petal_width < 1, то Setosa, в другом случае Others."
      ],
      "metadata": {
        "id": "0JUU5F10BUuc"
      },
      "execution_count": null,
      "outputs": []
    },
    {
      "cell_type": "markdown",
      "source": [
        "**6. При помощи команд withColumn, when, otherwise создаем в датафрейме новую колонку с таким предсказанием.**"
      ],
      "metadata": {
        "id": "nBD2H8O1Cf1d"
      }
    },
    {
      "cell_type": "code",
      "source": [
        "#Добавляем в датафрейм новую колонку, если условие выполняется то вносим значение Setosa, иначе Others.\n",
        "\n",
        "iris_df_pred = iris_df.withColumn(\"variety_pred\", \\\n",
        "                                  when((iris_df.petal_length < 2) & (iris_df.petal_width < 1), \\\n",
        "                                       lit(\"Setosa\")) \\\n",
        "                                  .otherwise(lit(\"Others\")))                                    \n",
        "\n",
        "iris_df_pred.show(5)"
      ],
      "metadata": {
        "colab": {
          "base_uri": "https://localhost:8080/"
        },
        "id": "Jsnx63HtCk2t",
        "outputId": "63f614f3-2d25-42df-9a3a-04d8c9a2f848"
      },
      "execution_count": 112,
      "outputs": [
        {
          "output_type": "stream",
          "name": "stdout",
          "text": [
            "+------------+-----------+------------+-----------+-------+------------+\n",
            "|sepal_length|sepal_width|petal_length|petal_width|variety|variety_pred|\n",
            "+------------+-----------+------------+-----------+-------+------------+\n",
            "|         5.1|        3.5|         1.4|        0.2| Setosa|      Setosa|\n",
            "|         4.9|        3.0|         1.4|        0.2| Setosa|      Setosa|\n",
            "|         4.7|        3.2|         1.3|        0.2| Setosa|      Setosa|\n",
            "|         4.6|        3.1|         1.5|        0.2| Setosa|      Setosa|\n",
            "|         5.0|        3.6|         1.4|        0.2| Setosa|      Setosa|\n",
            "+------------+-----------+------------+-----------+-------+------------+\n",
            "only showing top 5 rows\n",
            "\n"
          ]
        }
      ]
    },
    {
      "cell_type": "markdown",
      "source": [
        "**7.Проверяем качество своего предсказания.**\n",
        "\n",
        "Для этого:\n",
        "\n",
        "7.1.Считаем количество строк, где предсказали класс Setosa и правильный класс был так же Setosa.\n",
        "\n",
        "7.2.Считаем количество строк, где предсказали класс Setosa, а правильный класс был какой-то другой (воспользуйтесь оператором \"не равно\" -!=)"
      ],
      "metadata": {
        "id": "dLNfj8Y0Hshb"
      }
    },
    {
      "cell_type": "code",
      "source": [
        "#Добавляем в датафрейм новую колонку c результатами корректности предсказания\n",
        "\n",
        "iris_df_result = iris_df_pred.withColumn(\"pred_result\", \\\n",
        "                                  when((col(\"variety\") == \"Setosa\") & (col(\"variety_pred\") == \"Setosa\"), \\\n",
        "                                       lit(\"Correct prediction\")) \\\n",
        "                                  .when((col(\"variety\") != \"Setosa\") & (col(\"variety_pred\") == \"Setosa\"), \\\n",
        "                                       lit(\"Incorrect prediction\")) \\\n",
        "                                  .otherwise(lit(\"No prediction\")))                                    \n",
        "iris_df_result.show(5)\n",
        "\n",
        "#Считаем кол-во результатов предсказаний\n",
        "\n",
        "iris_df_result.agg(count(when(col(\"pred_result\") == \"Correct prediction\", True)) \\\n",
        "                  .alias('Setosa prediction is correct, rows count:')).show()\n",
        "iris_df_result.agg(count(when(col(\"pred_result\") == \"Incorrect prediction\", True)) \\\n",
        "                  .alias('Setosa prediction non correct, rows count:')).show()\n",
        "iris_df_result.agg(count(when(col(\"pred_result\") == \"No prediction\", True)) \\\n",
        "                  .alias('No prediction for Setosa, rows count:')).show()"
      ],
      "metadata": {
        "colab": {
          "base_uri": "https://localhost:8080/"
        },
        "id": "Ev_ACSRiI3uV",
        "outputId": "cb684d9b-eaf2-46c5-f935-4eb3ef9512cb"
      },
      "execution_count": 168,
      "outputs": [
        {
          "output_type": "stream",
          "name": "stdout",
          "text": [
            "+------------+-----------+------------+-----------+-------+------------+------------------+\n",
            "|sepal_length|sepal_width|petal_length|petal_width|variety|variety_pred|       pred_result|\n",
            "+------------+-----------+------------+-----------+-------+------------+------------------+\n",
            "|         5.1|        3.5|         1.4|        0.2| Setosa|      Setosa|Correct prediction|\n",
            "|         4.9|        3.0|         1.4|        0.2| Setosa|      Setosa|Correct prediction|\n",
            "|         4.7|        3.2|         1.3|        0.2| Setosa|      Setosa|Correct prediction|\n",
            "|         4.6|        3.1|         1.5|        0.2| Setosa|      Setosa|Correct prediction|\n",
            "|         5.0|        3.6|         1.4|        0.2| Setosa|      Setosa|Correct prediction|\n",
            "+------------+-----------+------------+-----------+-------+------------+------------------+\n",
            "only showing top 5 rows\n",
            "\n",
            "+-----------------------------------------+\n",
            "|Setosa prediction is correct, rows count:|\n",
            "+-----------------------------------------+\n",
            "|                                       50|\n",
            "+-----------------------------------------+\n",
            "\n",
            "+------------------------------------------+\n",
            "|Setosa prediction non correct, rows count:|\n",
            "+------------------------------------------+\n",
            "|                                         0|\n",
            "+------------------------------------------+\n",
            "\n",
            "+-------------------------------------+\n",
            "|No prediction for Setosa, rows count:|\n",
            "+-------------------------------------+\n",
            "|                                  100|\n",
            "+-------------------------------------+\n",
            "\n"
          ]
        }
      ]
    }
  ]
}