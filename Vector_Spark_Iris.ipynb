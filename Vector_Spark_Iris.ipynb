{
  "nbformat": 4,
  "nbformat_minor": 0,
  "metadata": {
    "colab": {
      "name": "Vector_Spark_Iris.ipynb",
      "provenance": [],
      "collapsed_sections": []
    },
    "kernelspec": {
      "name": "python3",
      "display_name": "Python 3"
    },
    "language_info": {
      "name": "python"
    }
  },
  "cells": [
    {
      "cell_type": "markdown",
      "source": [
        "**Установка pysparc**"
      ],
      "metadata": {
        "id": "SO2r2hlWzGDv"
      }
    },
    {
      "cell_type": "code",
      "execution_count": 1,
      "metadata": {
        "colab": {
          "base_uri": "https://localhost:8080/"
        },
        "id": "N9fmrQ2lkTn1",
        "outputId": "1b129fdf-1fc4-4bd0-b4ed-7d668623adc6"
      },
      "outputs": [
        {
          "output_type": "stream",
          "name": "stdout",
          "text": [
            "Collecting pyspark\n",
            "  Downloading pyspark-3.2.1.tar.gz (281.4 MB)\n",
            "\u001b[K     |████████████████████████████████| 281.4 MB 34 kB/s \n",
            "\u001b[?25hCollecting py4j==0.10.9.3\n",
            "  Downloading py4j-0.10.9.3-py2.py3-none-any.whl (198 kB)\n",
            "\u001b[K     |████████████████████████████████| 198 kB 44.1 MB/s \n",
            "\u001b[?25hBuilding wheels for collected packages: pyspark\n",
            "  Building wheel for pyspark (setup.py) ... \u001b[?25l\u001b[?25hdone\n",
            "  Created wheel for pyspark: filename=pyspark-3.2.1-py2.py3-none-any.whl size=281853642 sha256=77f08bfd16b81ac2963ebfa2b7db05fff11c531a13a8033adb714fb11c7fd51a\n",
            "  Stored in directory: /root/.cache/pip/wheels/9f/f5/07/7cd8017084dce4e93e84e92efd1e1d5334db05f2e83bcef74f\n",
            "Successfully built pyspark\n",
            "Installing collected packages: py4j, pyspark\n",
            "Successfully installed py4j-0.10.9.3 pyspark-3.2.1\n"
          ]
        }
      ],
      "source": [
        "!pip install pyspark"
      ]
    },
    {
      "cell_type": "markdown",
      "source": [
        "**Загрузка библиотек**"
      ],
      "metadata": {
        "id": "Dz34C_VFzbWp"
      }
    },
    {
      "cell_type": "code",
      "source": [
        "import pandas as pd\n",
        "import numpy as np\n",
        "\n",
        "from pyspark.context import SparkContext\n",
        "from pyspark.sql.session import SparkSession \n",
        "\n",
        "sc = SparkContext('local') \n",
        "spark = SparkSession(sc)"
      ],
      "metadata": {
        "id": "zFFFbkPePYBN"
      },
      "execution_count": 2,
      "outputs": []
    },
    {
      "cell_type": "markdown",
      "source": [
        "**1-2. Загрузка данных при помощи spark.read.csv из файла iris.csv.**"
      ],
      "metadata": {
        "id": "Mj1Pyj13yP_D"
      }
    },
    {
      "cell_type": "code",
      "source": [
        "#header=True - при чтении используем первую строку как имена столбцов. \n",
        "#inferSchema=True - автоматически просматривает CSV-файл и выводит схему каждого столбца (тип столбца).\n",
        "#quote=\"\" - задаем как пустую строку. \n",
        "\n",
        "iris_df = spark.read.csv('iris.csv', header=True, inferSchema=True, quote=\"\")"
      ],
      "metadata": {
        "id": "d63P9pdIz5XI"
      },
      "execution_count": 3,
      "outputs": []
    },
    {
      "cell_type": "code",
      "source": [
        "#вывод 5 первых строк\n",
        "iris_df.show(5)"
      ],
      "metadata": {
        "colab": {
          "base_uri": "https://localhost:8080/"
        },
        "id": "JotFo6je6VaJ",
        "outputId": "89b11ae3-c771-4fde-81d9-202079798cd8"
      },
      "execution_count": 4,
      "outputs": [
        {
          "output_type": "stream",
          "name": "stdout",
          "text": [
            "+-------------+---------------+----------------+---------------+------------+\n",
            "|\"sepal.length|\"\"sepal.width\"\"|\"\"petal.length\"\"|\"\"petal.width\"\"|\"\"variety\"\"\"|\n",
            "+-------------+---------------+----------------+---------------+------------+\n",
            "|         \"5.1|            3.5|             1.4|            0.2| \"\"Setosa\"\"\"|\n",
            "|         \"4.9|            3.0|             1.4|            0.2| \"\"Setosa\"\"\"|\n",
            "|         \"4.7|            3.2|             1.3|            0.2| \"\"Setosa\"\"\"|\n",
            "|         \"4.6|            3.1|             1.5|            0.2| \"\"Setosa\"\"\"|\n",
            "|           \"5|            3.6|             1.4|            0.2| \"\"Setosa\"\"\"|\n",
            "+-------------+---------------+----------------+---------------+------------+\n",
            "only showing top 5 rows\n",
            "\n"
          ]
        }
      ]
    },
    {
      "cell_type": "code",
      "source": [
        "#Типы атрибутов\n",
        "iris_df.printSchema()"
      ],
      "metadata": {
        "colab": {
          "base_uri": "https://localhost:8080/"
        },
        "id": "WWra7ZBxXuQ4",
        "outputId": "0633bc22-7a30-48ec-eca5-8e412db013bd"
      },
      "execution_count": 5,
      "outputs": [
        {
          "output_type": "stream",
          "name": "stdout",
          "text": [
            "root\n",
            " |-- \"sepal.length: string (nullable = true)\n",
            " |-- \"\"sepal.width\"\": double (nullable = true)\n",
            " |-- \"\"petal.length\"\": double (nullable = true)\n",
            " |-- \"\"petal.width\"\": double (nullable = true)\n",
            " |-- \"\"variety\"\"\": string (nullable = true)\n",
            "\n"
          ]
        }
      ]
    },
    {
      "cell_type": "code",
      "source": [
        "#преобразуем названия колонок, без учета кавычек\n",
        "iris_df = iris_df.toDF(\"sepal_length\",\"sepal_width\",\"petal_length\",\"petal_width\",\"variety\")\n",
        "iris_df.show(5)"
      ],
      "metadata": {
        "colab": {
          "base_uri": "https://localhost:8080/"
        },
        "id": "94I2F1T6-2lr",
        "outputId": "ddadf838-345d-47fb-8685-62dfc3d389d8"
      },
      "execution_count": 6,
      "outputs": [
        {
          "output_type": "stream",
          "name": "stdout",
          "text": [
            "+------------+-----------+------------+-----------+-----------+\n",
            "|sepal_length|sepal_width|petal_length|petal_width|    variety|\n",
            "+------------+-----------+------------+-----------+-----------+\n",
            "|        \"5.1|        3.5|         1.4|        0.2|\"\"Setosa\"\"\"|\n",
            "|        \"4.9|        3.0|         1.4|        0.2|\"\"Setosa\"\"\"|\n",
            "|        \"4.7|        3.2|         1.3|        0.2|\"\"Setosa\"\"\"|\n",
            "|        \"4.6|        3.1|         1.5|        0.2|\"\"Setosa\"\"\"|\n",
            "|          \"5|        3.6|         1.4|        0.2|\"\"Setosa\"\"\"|\n",
            "+------------+-----------+------------+-----------+-----------+\n",
            "only showing top 5 rows\n",
            "\n"
          ]
        }
      ]
    },
    {
      "cell_type": "code",
      "source": [
        "#в значениях первого и последнего столбца удаляем лишние кавычки\n",
        "\n",
        "from pyspark.sql.functions import *\n",
        "from pyspark.sql.types import DoubleType\n",
        "\n",
        "undue_symbol = '[\"]'   #задаем символ для поиска и исключения\n",
        "iris_df = iris_df.withColumn(\"sepal_length\", regexp_replace(col(\"sepal_length\"), undue_symbol, ''))\\\n",
        "    .withColumn(\"variety\", regexp_replace(col(\"variety\"), undue_symbol, ''))\n",
        "\n",
        "iris_df.show(5)"
      ],
      "metadata": {
        "colab": {
          "base_uri": "https://localhost:8080/"
        },
        "id": "SE8sXVF_l5Bs",
        "outputId": "b1022a2c-e55f-4171-a9f1-ef75c90fb720"
      },
      "execution_count": 7,
      "outputs": [
        {
          "output_type": "stream",
          "name": "stdout",
          "text": [
            "+------------+-----------+------------+-----------+-------+\n",
            "|sepal_length|sepal_width|petal_length|petal_width|variety|\n",
            "+------------+-----------+------------+-----------+-------+\n",
            "|         5.1|        3.5|         1.4|        0.2| Setosa|\n",
            "|         4.9|        3.0|         1.4|        0.2| Setosa|\n",
            "|         4.7|        3.2|         1.3|        0.2| Setosa|\n",
            "|         4.6|        3.1|         1.5|        0.2| Setosa|\n",
            "|           5|        3.6|         1.4|        0.2| Setosa|\n",
            "+------------+-----------+------------+-----------+-------+\n",
            "only showing top 5 rows\n",
            "\n"
          ]
        }
      ]
    },
    {
      "cell_type": "code",
      "source": [
        "#так как атрибут sepal.length имеет тип данных строка, то нужно переопределить тип в double\n",
        "\n",
        "iris_df = iris_df.withColumn('sepal_length', col('sepal_length').cast(DoubleType()))\n",
        "iris_df.printSchema()"
      ],
      "metadata": {
        "colab": {
          "base_uri": "https://localhost:8080/"
        },
        "id": "oIdEb7aufrR7",
        "outputId": "15e7f04a-61b4-44bc-dc24-71dfffc0d1c8"
      },
      "execution_count": 8,
      "outputs": [
        {
          "output_type": "stream",
          "name": "stdout",
          "text": [
            "root\n",
            " |-- sepal_length: double (nullable = true)\n",
            " |-- sepal_width: double (nullable = true)\n",
            " |-- petal_length: double (nullable = true)\n",
            " |-- petal_width: double (nullable = true)\n",
            " |-- variety: string (nullable = true)\n",
            "\n"
          ]
        }
      ]
    },
    {
      "cell_type": "code",
      "source": [
        "#вывод итогового датасета после обработки \n",
        "iris_df.show(5)"
      ],
      "metadata": {
        "colab": {
          "base_uri": "https://localhost:8080/"
        },
        "id": "BTOL9AcRNRG2",
        "outputId": "2395fbc6-48eb-4e35-ba7f-6acd980e83ad"
      },
      "execution_count": 9,
      "outputs": [
        {
          "output_type": "stream",
          "name": "stdout",
          "text": [
            "+------------+-----------+------------+-----------+-------+\n",
            "|sepal_length|sepal_width|petal_length|petal_width|variety|\n",
            "+------------+-----------+------------+-----------+-------+\n",
            "|         5.1|        3.5|         1.4|        0.2| Setosa|\n",
            "|         4.9|        3.0|         1.4|        0.2| Setosa|\n",
            "|         4.7|        3.2|         1.3|        0.2| Setosa|\n",
            "|         4.6|        3.1|         1.5|        0.2| Setosa|\n",
            "|         5.0|        3.6|         1.4|        0.2| Setosa|\n",
            "+------------+-----------+------------+-----------+-------+\n",
            "only showing top 5 rows\n",
            "\n"
          ]
        }
      ]
    },
    {
      "cell_type": "markdown",
      "source": [
        "**Промежуточная аттестация. Модуль «Большие данные»**"
      ],
      "metadata": {
        "id": "MocO9zWjhO26"
      }
    },
    {
      "cell_type": "markdown",
      "source": [
        "**3. При помощи VectorAssembler преобразовать все колонки с признаками в одну**\n",
        "**(использовать PipeLine)** "
      ],
      "metadata": {
        "id": "yX5dRNGlg7cL"
      }
    },
    {
      "cell_type": "code",
      "source": [
        "iris_df.printSchema()"
      ],
      "metadata": {
        "colab": {
          "base_uri": "https://localhost:8080/"
        },
        "id": "80zP3sRTy-93",
        "outputId": "45dfa64c-7342-40c7-fca7-17f4fc948855"
      },
      "execution_count": 21,
      "outputs": [
        {
          "output_type": "stream",
          "name": "stdout",
          "text": [
            "root\n",
            " |-- sepal_length: double (nullable = true)\n",
            " |-- sepal_width: double (nullable = true)\n",
            " |-- petal_length: double (nullable = true)\n",
            " |-- petal_width: double (nullable = true)\n",
            " |-- variety: string (nullable = true)\n",
            "\n"
          ]
        }
      ]
    },
    {
      "cell_type": "markdown",
      "source": [
        "Все столбцы, кроме variety являются double. Столбец variety - содержит строковые данные string.\n",
        "Чтобы использовать variety для обучения модели, мы должны преобразовать строковые данные в значения с помощью StringIndexer"
      ],
      "metadata": {
        "id": "DO5oNxqE0fle"
      }
    },
    {
      "cell_type": "markdown",
      "source": [
        "VectorAssembler - Преобразователь признаков, который объединяет несколько столбцов в векторный столбец."
      ],
      "metadata": {
        "id": "xsWUuMg2zECt"
      }
    },
    {
      "cell_type": "code",
      "source": [
        "#Загрузка небходимых библиотек\n",
        "from pyspark.sql.functions import *\n",
        "from pyspark.ml.feature import VectorAssembler, StringIndexer\n",
        "from pyspark.ml import Pipeline\n",
        "from pyspark.ml.linalg import Vectors"
      ],
      "metadata": {
        "id": "pOfKBXLOhu0S"
      },
      "execution_count": 22,
      "outputs": []
    },
    {
      "cell_type": "code",
      "source": [
        "#При помощи VectorAssembler объединяем числовые значения столбцов с признаками в вектора: \n",
        "# inputCols-'имена входных столбцов (признаки)'\n",
        "# outputCol-'имя выходного столбца'\n",
        "#Результаты вносим в новый столбец features. \n",
        "\n",
        "#Используем StringIndexer для преобразования строковых данных столбца variety в числовые значения: \n",
        "# 0 (Setosa), 1 (Versicolor) и 2 (Virginica)\n",
        "#Результаты вносим в новый столбец class_ind.\n",
        "\n",
        "#Объединяем оба действия методом Pipeline\n",
        "pipeline = Pipeline(stages = \n",
        "[VectorAssembler(inputCols=[\"sepal_length\", \"sepal_width\", \"petal_length\", \"petal_width\"], outputCol='features'),\n",
        " StringIndexer(inputCol = 'variety', outputCol = 'class_ind')]\n",
        ")\n",
        "\n",
        "#Используем полученный pipeline для обучения на нашем датасете:\n",
        "va_si_pipeline = pipeline.fit(iris_df)\n",
        "\n",
        "#При помощи метода Transform преобразуем исходный датасет в новый:\n",
        "vector_iris_df = va_si_pipeline.transform(iris_df)\n",
        "vector_iris_df.show(5)"
      ],
      "metadata": {
        "colab": {
          "base_uri": "https://localhost:8080/"
        },
        "id": "tWVip5nmoZDd",
        "outputId": "79004f04-4a31-4210-b1e6-9a3c1c84fb94"
      },
      "execution_count": 29,
      "outputs": [
        {
          "output_type": "stream",
          "name": "stdout",
          "text": [
            "+------------+-----------+------------+-----------+-------+-----------------+---------+\n",
            "|sepal_length|sepal_width|petal_length|petal_width|variety|         features|class_ind|\n",
            "+------------+-----------+------------+-----------+-------+-----------------+---------+\n",
            "|         5.1|        3.5|         1.4|        0.2| Setosa|[5.1,3.5,1.4,0.2]|      0.0|\n",
            "|         4.9|        3.0|         1.4|        0.2| Setosa|[4.9,3.0,1.4,0.2]|      0.0|\n",
            "|         4.7|        3.2|         1.3|        0.2| Setosa|[4.7,3.2,1.3,0.2]|      0.0|\n",
            "|         4.6|        3.1|         1.5|        0.2| Setosa|[4.6,3.1,1.5,0.2]|      0.0|\n",
            "|         5.0|        3.6|         1.4|        0.2| Setosa|[5.0,3.6,1.4,0.2]|      0.0|\n",
            "+------------+-----------+------------+-----------+-------+-----------------+---------+\n",
            "only showing top 5 rows\n",
            "\n"
          ]
        }
      ]
    },
    {
      "cell_type": "code",
      "source": [
        "#Для проверки посчитаем кол-во каждого вида ириса и соответствующий ему индекс\n",
        "check_test = vector_iris_df.groupBy(\"variety\",\"class_ind\").count().sort(\"class_ind\")\n",
        "check_test.show()"
      ],
      "metadata": {
        "colab": {
          "base_uri": "https://localhost:8080/"
        },
        "id": "ZwX5YlfABwDJ",
        "outputId": "a35160aa-4e15-4782-edd7-ec7267013167"
      },
      "execution_count": 32,
      "outputs": [
        {
          "output_type": "stream",
          "name": "stdout",
          "text": [
            "+----------+---------+-----+\n",
            "|   variety|class_ind|count|\n",
            "+----------+---------+-----+\n",
            "|    Setosa|      0.0|   50|\n",
            "|Versicolor|      1.0|   50|\n",
            "| Virginica|      2.0|   50|\n",
            "+----------+---------+-----+\n",
            "\n"
          ]
        }
      ]
    },
    {
      "cell_type": "markdown",
      "source": [
        "В новом датасете каждому виду ириса соответствует уникальный индекс-классификатор и по 50 записей. Обучение исходного датасета прошло успешно. "
      ],
      "metadata": {
        "id": "a-vcIeNEAYYW"
      }
    },
    {
      "cell_type": "markdown",
      "source": [
        "**4. Разбить данные на train и test**"
      ],
      "metadata": {
        "id": "_e5J2Q3iECPx"
      }
    },
    {
      "cell_type": "code",
      "source": [
        "#Разделим исходный датасет на две выборки - для обучения (train=80%) и тестирования (test=20%). \n",
        "#Выборку train будем использовать для обучения модели, а на test проверять эффективность обученной модели.\n",
        "#Для этого используем метод randomSplit, который разделит исходный датасет в заданной пропорции (80/20) \n",
        "\n",
        "train, test = vector_iris_df.randomSplit([0.8, 0.2], seed=2)\n",
        "print('\\033[1m'+'Обучающая выборка:'+'\\033[0m')\n",
        "train.show()\n",
        "print('\\033[1m'+'Тестовая выборка:'+'\\033[0m')\n",
        "test.show()\n",
        "print('\\033[1m'+'Кол-во записей в обучающей выборке:'+'\\033[0m', train.count())\n",
        "print('\\033[1m'+'Кол-во записей в тестовой выборке:'+'\\033[0m', test.count())\n",
        "print('\\033[1m'+'Кол-во записей в исходном датасете:'+'\\033[0m', vector_iris_df.count())"
      ],
      "metadata": {
        "colab": {
          "base_uri": "https://localhost:8080/"
        },
        "id": "v7zej6wyElJq",
        "outputId": "acfa40bb-9643-4ec3-9cac-08a85f295462"
      },
      "execution_count": 52,
      "outputs": [
        {
          "output_type": "stream",
          "name": "stdout",
          "text": [
            "\u001b[1mОбучающая выборка:\u001b[0m\n",
            "+------------+-----------+------------+-----------+----------+-----------------+---------+\n",
            "|sepal_length|sepal_width|petal_length|petal_width|   variety|         features|class_ind|\n",
            "+------------+-----------+------------+-----------+----------+-----------------+---------+\n",
            "|         4.3|        3.0|         1.1|        0.1|    Setosa|[4.3,3.0,1.1,0.1]|      0.0|\n",
            "|         4.4|        2.9|         1.4|        0.2|    Setosa|[4.4,2.9,1.4,0.2]|      0.0|\n",
            "|         4.4|        3.0|         1.3|        0.2|    Setosa|[4.4,3.0,1.3,0.2]|      0.0|\n",
            "|         4.4|        3.2|         1.3|        0.2|    Setosa|[4.4,3.2,1.3,0.2]|      0.0|\n",
            "|         4.6|        3.1|         1.5|        0.2|    Setosa|[4.6,3.1,1.5,0.2]|      0.0|\n",
            "|         4.6|        3.2|         1.4|        0.2|    Setosa|[4.6,3.2,1.4,0.2]|      0.0|\n",
            "|         4.6|        3.4|         1.4|        0.3|    Setosa|[4.6,3.4,1.4,0.3]|      0.0|\n",
            "|         4.6|        3.6|         1.0|        0.2|    Setosa|[4.6,3.6,1.0,0.2]|      0.0|\n",
            "|         4.7|        3.2|         1.3|        0.2|    Setosa|[4.7,3.2,1.3,0.2]|      0.0|\n",
            "|         4.7|        3.2|         1.6|        0.2|    Setosa|[4.7,3.2,1.6,0.2]|      0.0|\n",
            "|         4.8|        3.0|         1.4|        0.1|    Setosa|[4.8,3.0,1.4,0.1]|      0.0|\n",
            "|         4.8|        3.0|         1.4|        0.3|    Setosa|[4.8,3.0,1.4,0.3]|      0.0|\n",
            "|         4.8|        3.1|         1.6|        0.2|    Setosa|[4.8,3.1,1.6,0.2]|      0.0|\n",
            "|         4.8|        3.4|         1.9|        0.2|    Setosa|[4.8,3.4,1.9,0.2]|      0.0|\n",
            "|         4.9|        2.4|         3.3|        1.0|Versicolor|[4.9,2.4,3.3,1.0]|      1.0|\n",
            "|         4.9|        2.5|         4.5|        1.7| Virginica|[4.9,2.5,4.5,1.7]|      2.0|\n",
            "|         4.9|        3.0|         1.4|        0.2|    Setosa|[4.9,3.0,1.4,0.2]|      0.0|\n",
            "|         4.9|        3.1|         1.5|        0.1|    Setosa|[4.9,3.1,1.5,0.1]|      0.0|\n",
            "|         4.9|        3.1|         1.5|        0.2|    Setosa|[4.9,3.1,1.5,0.2]|      0.0|\n",
            "|         4.9|        3.6|         1.4|        0.1|    Setosa|[4.9,3.6,1.4,0.1]|      0.0|\n",
            "+------------+-----------+------------+-----------+----------+-----------------+---------+\n",
            "only showing top 20 rows\n",
            "\n",
            "\u001b[1mТестовая выборка:\u001b[0m\n",
            "+------------+-----------+------------+-----------+----------+-----------------+---------+\n",
            "|sepal_length|sepal_width|petal_length|petal_width|   variety|         features|class_ind|\n",
            "+------------+-----------+------------+-----------+----------+-----------------+---------+\n",
            "|         4.5|        2.3|         1.3|        0.3|    Setosa|[4.5,2.3,1.3,0.3]|      0.0|\n",
            "|         4.8|        3.4|         1.6|        0.2|    Setosa|[4.8,3.4,1.6,0.2]|      0.0|\n",
            "|         5.0|        3.3|         1.4|        0.2|    Setosa|[5.0,3.3,1.4,0.2]|      0.0|\n",
            "|         5.0|        3.5|         1.3|        0.3|    Setosa|[5.0,3.5,1.3,0.3]|      0.0|\n",
            "|         5.1|        2.5|         3.0|        1.1|Versicolor|[5.1,2.5,3.0,1.1]|      1.0|\n",
            "|         5.1|        3.5|         1.4|        0.2|    Setosa|[5.1,3.5,1.4,0.2]|      0.0|\n",
            "|         5.1|        3.8|         1.9|        0.4|    Setosa|[5.1,3.8,1.9,0.4]|      0.0|\n",
            "|         5.2|        2.7|         3.9|        1.4|Versicolor|[5.2,2.7,3.9,1.4]|      1.0|\n",
            "|         5.3|        3.7|         1.5|        0.2|    Setosa|[5.3,3.7,1.5,0.2]|      0.0|\n",
            "|         5.5|        2.3|         4.0|        1.3|Versicolor|[5.5,2.3,4.0,1.3]|      1.0|\n",
            "|         5.5|        4.2|         1.4|        0.2|    Setosa|[5.5,4.2,1.4,0.2]|      0.0|\n",
            "|         5.6|        2.9|         3.6|        1.3|Versicolor|[5.6,2.9,3.6,1.3]|      1.0|\n",
            "|         5.7|        3.8|         1.7|        0.3|    Setosa|[5.7,3.8,1.7,0.3]|      0.0|\n",
            "|         5.8|        2.7|         3.9|        1.2|Versicolor|[5.8,2.7,3.9,1.2]|      1.0|\n",
            "|         5.8|        4.0|         1.2|        0.2|    Setosa|[5.8,4.0,1.2,0.2]|      0.0|\n",
            "|         6.0|        2.2|         5.0|        1.5| Virginica|[6.0,2.2,5.0,1.5]|      2.0|\n",
            "|         6.1|        2.8|         4.0|        1.3|Versicolor|[6.1,2.8,4.0,1.3]|      1.0|\n",
            "|         6.2|        2.2|         4.5|        1.5|Versicolor|[6.2,2.2,4.5,1.5]|      1.0|\n",
            "|         6.2|        3.4|         5.4|        2.3| Virginica|[6.2,3.4,5.4,2.3]|      2.0|\n",
            "|         6.4|        3.2|         4.5|        1.5|Versicolor|[6.4,3.2,4.5,1.5]|      1.0|\n",
            "+------------+-----------+------------+-----------+----------+-----------------+---------+\n",
            "only showing top 20 rows\n",
            "\n",
            "\u001b[1mКол-во записей в обучающей выборке:\u001b[0m 122\n",
            "\u001b[1mКол-во записей в тестовой выборке:\u001b[0m 28\n",
            "\u001b[1mКол-во записей в исходном датасете:\u001b[0m 150\n"
          ]
        }
      ]
    },
    {
      "cell_type": "markdown",
      "source": [
        "**5. Создать модель логистической регресии и обучить ее**"
      ],
      "metadata": {
        "id": "kE1VVhH7QeJ1"
      }
    },
    {
      "cell_type": "code",
      "source": [
        "#В качестве алгоритма обучения используем модель логистической регрессии (Logistic Regression). \n",
        "from pyspark.ml.classification import LogisticRegression\n",
        "\n",
        "#Обучаем нашу модель на данных столбца векторов 'features', в качестве классификатора берем значения из столбца 'class_ind'\n",
        "lr_iris_df=LogisticRegression(featuresCol='features', labelCol='class_ind')\n",
        "LrModel=lr_iris_df.fit(train)\n",
        "\n",
        "#При помощи метода Transform получаем новые датасеты с предсказаниями по обучащей и тестовой выборкам:\n",
        "train_iris_df=LrModel.transform(train)\n",
        "test_iris_df=LrModel.transform(test)\n",
        "\n",
        "print('\\033[1m'+'Предсказание по обучающей выборке:'+'\\033[0m')\n",
        "train_iris_df.show()\n",
        "print('\\033[1m'+'Предсказание по тестовой выборке:'+'\\033[0m')\n",
        "test_iris_df.show()"
      ],
      "metadata": {
        "colab": {
          "base_uri": "https://localhost:8080/"
        },
        "id": "z_3gcnDwSkQs",
        "outputId": "e7d1a583-4604-4233-bc7c-2b9973062e24"
      },
      "execution_count": 56,
      "outputs": [
        {
          "output_type": "stream",
          "name": "stdout",
          "text": [
            "\u001b[1mПредсказание по обучающей выборке:\u001b[0m\n",
            "+------------+-----------+------------+-----------+----------+-----------------+---------+--------------------+--------------------+----------+\n",
            "|sepal_length|sepal_width|petal_length|petal_width|   variety|         features|class_ind|       rawPrediction|         probability|prediction|\n",
            "+------------+-----------+------------+-----------+----------+-----------------+---------+--------------------+--------------------+----------+\n",
            "|         4.3|        3.0|         1.1|        0.1|    Setosa|[4.3,3.0,1.1,0.1]|      0.0|[38.4259720969243...|[0.99999999999980...|       0.0|\n",
            "|         4.4|        2.9|         1.4|        0.2|    Setosa|[4.4,2.9,1.4,0.2]|      0.0|[32.3793368523923...|[0.99999999983944...|       0.0|\n",
            "|         4.4|        3.0|         1.3|        0.2|    Setosa|[4.4,3.0,1.3,0.2]|      0.0|[35.1889516742506...|[0.99999999999501...|       0.0|\n",
            "|         4.4|        3.2|         1.3|        0.2|    Setosa|[4.4,3.2,1.3,0.2]|      0.0|[39.5441931883052...|[0.99999999999998...|       0.0|\n",
            "|         4.6|        3.1|         1.5|        0.2|    Setosa|[4.6,3.1,1.5,0.2]|      0.0|[34.8806342802432...|[0.99999999999423...|       0.0|\n",
            "|         4.6|        3.2|         1.4|        0.2|    Setosa|[4.6,3.2,1.4,0.2]|      0.0|[37.6902491021014...|[0.99999999999982...|       0.0|\n",
            "|         4.6|        3.4|         1.4|        0.3|    Setosa|[4.6,3.4,1.4,0.3]|      0.0|[40.6834333338305...|[0.99999999999999...|       0.0|\n",
            "|         4.6|        3.6|         1.0|        0.2|    Setosa|[4.6,3.6,1.0,0.2]|      0.0|[48.9287083895343...|[1.0,1.6633497683...|       0.0|\n",
            "|         4.7|        3.2|         1.3|        0.2|    Setosa|[4.7,3.2,1.3,0.2]|      0.0|[37.7112681562458...|[0.99999999999970...|       0.0|\n",
            "|         4.7|        3.2|         1.6|        0.2|    Setosa|[4.7,3.2,1.6,0.2]|      0.0|[35.8152859617532...|[0.99999999999858...|       0.0|\n",
            "|         4.8|        3.0|         1.4|        0.1|    Setosa|[4.8,3.0,1.4,0.1]|      0.0|[33.4751148489994...|[0.99999999984219...|       0.0|\n",
            "|         4.8|        3.0|         1.4|        0.3|    Setosa|[4.8,3.0,1.4,0.3]|      0.0|[30.7510002843482...|[0.99999999835994...|       0.0|\n",
            "|         4.8|        3.1|         1.6|        0.2|    Setosa|[4.8,3.1,1.6,0.2]|      0.0|[33.0266901940394...|[0.99999999992440...|       0.0|\n",
            "|         4.8|        3.4|         1.9|        0.2|    Setosa|[4.8,3.4,1.9,0.2]|      0.0|[37.6635702706288...|[0.99999999999994...|       0.0|\n",
            "|         4.9|        2.4|         3.3|        1.0|Versicolor|[4.9,2.4,3.3,1.0]|      1.0|[-4.4679874765678...|[6.11997155412408...|       1.0|\n",
            "|         4.9|        2.5|         4.5|        1.7| Virginica|[4.9,2.5,4.5,1.7]|      2.0|[-19.40869647379,...|[7.37488839300351...|       2.0|\n",
            "|         4.9|        3.0|         1.4|        0.2|    Setosa|[4.9,3.0,1.4,0.2]|      0.0|[31.5020825559873...|[0.99999999858082...|       0.0|\n",
            "|         4.9|        3.1|         1.5|        0.1|    Setosa|[4.9,3.1,1.5,0.1]|      0.0|[34.4097665305094...|[0.99999999996118...|       0.0|\n",
            "|         4.9|        3.1|         1.5|        0.2|    Setosa|[4.9,3.1,1.5,0.2]|      0.0|[33.0477092481838...|[0.99999999987486...|       0.0|\n",
            "|         4.9|        3.6|         1.4|        0.1|    Setosa|[4.9,3.6,1.4,0.1]|      0.0|[45.929864380477,...|[1.0,9.0340157402...|       0.0|\n",
            "+------------+-----------+------------+-----------+----------+-----------------+---------+--------------------+--------------------+----------+\n",
            "only showing top 20 rows\n",
            "\n",
            "\u001b[1mПредсказание по тестовой выборке:\u001b[0m\n",
            "+------------+-----------+------------+-----------+----------+-----------------+---------+--------------------+--------------------+----------+\n",
            "|sepal_length|sepal_width|petal_length|petal_width|   variety|         features|class_ind|       rawPrediction|         probability|prediction|\n",
            "+------------+-----------+------------+-----------+----------+-----------------+---------+--------------------+--------------------+----------+\n",
            "|         4.5|        2.3|         1.3|        0.3|    Setosa|[4.5,2.3,1.3,0.3]|      0.0|[17.9725740820471...|[0.95992284289099...|       0.0|\n",
            "|         4.8|        3.4|         1.6|        0.2|    Setosa|[4.8,3.4,1.6,0.2]|      0.0|[39.5595524651214...|[0.99999999999998...|       0.0|\n",
            "|         5.0|        3.3|         1.4|        0.2|    Setosa|[5.0,3.3,1.4,0.2]|      0.0|[37.4239698163829...|[0.99999999999943...|       0.0|\n",
            "|         5.0|        3.5|         1.3|        0.3|    Setosa|[5.0,3.5,1.3,0.3]|      0.0|[41.0491481129429...|[0.99999999999999...|       0.0|\n",
            "|         5.1|        2.5|         3.0|        1.1|Versicolor|[5.1,2.5,3.0,1.1]|      1.0|[-2.9783918287464...|[2.23137584772071...|       1.0|\n",
            "|         5.1|        3.5|         1.4|        0.2|    Setosa|[5.1,3.5,1.4,0.2]|      0.0|[41.1682363197511...|[0.99999999999999...|       0.0|\n",
            "|         5.1|        3.8|         1.9|        0.4|    Setosa|[5.1,3.8,1.9,0.4]|      0.0|[41.8170137020276...|[1.0,8.7650482730...|       0.0|\n",
            "|         5.2|        2.7|         3.9|        1.4|Versicolor|[5.2,2.7,3.9,1.4]|      1.0|[-9.0082437558327...|[7.95415263239209...|       1.0|\n",
            "|         5.3|        3.7|         1.5|        0.2|    Setosa|[5.3,3.7,1.5,0.2]|      0.0|[43.6695337476019...|[0.99999999999999...|       0.0|\n",
            "|         5.5|        2.3|         4.0|        1.3|Versicolor|[5.5,2.3,4.0,1.3]|      1.0|[-18.821588598506...|[5.25354791910053...|       1.0|\n",
            "|         5.5|        4.2|         1.4|        0.2|    Setosa|[5.5,4.2,1.4,0.2]|      0.0|[53.9676815761966...|[1.0,2.8165090541...|       0.0|\n",
            "|         5.6|        2.9|         3.6|        1.3|Versicolor|[5.6,2.9,3.6,1.3]|      1.0|[-3.8388628077057...|[7.40241931381529...|       1.0|\n",
            "|         5.7|        3.8|         1.7|        0.3|    Setosa|[5.7,3.8,1.7,0.3]|      0.0|[40.7772090498961...|[0.99999999999999...|       0.0|\n",
            "|         5.8|        2.7|         3.9|        1.2|Versicolor|[5.8,2.7,3.9,1.2]|      1.0|[-9.9499792553004...|[1.75420674371953...|       1.0|\n",
            "|         5.8|        4.0|         1.2|        0.2|    Setosa|[5.8,4.0,1.2,0.2]|      0.0|[49.0435031597442...|[1.0,7.8635733890...|       0.0|\n",
            "|         6.0|        2.2|         5.0|        1.5| Virginica|[6.0,2.2,5.0,1.5]|      2.0|[-33.098139621926...|[8.04457448668968...|       2.0|\n",
            "|         6.1|        2.8|         4.0|        1.3|Versicolor|[6.1,2.8,4.0,1.3]|      1.0|[-11.599334877489...|[2.84267868456566...|       1.0|\n",
            "|         6.2|        2.2|         4.5|        1.5|Versicolor|[6.2,2.2,4.5,1.5]|      1.0|[-31.160119319145...|[1.36209019675702...|       1.0|\n",
            "|         6.2|        3.4|         5.4|        2.3| Virginica|[6.2,3.4,5.4,2.3]|      2.0|[-21.613075076899...|[2.52094011910924...|       2.0|\n",
            "|         6.4|        3.2|         4.5|        1.5|Versicolor|[6.4,3.2,4.5,1.5]|      1.0|[-10.605861770244...|[1.23660119055487...|       1.0|\n",
            "+------------+-----------+------------+-----------+----------+-----------------+---------+--------------------+--------------------+----------+\n",
            "only showing top 20 rows\n",
            "\n"
          ]
        }
      ]
    },
    {
      "cell_type": "markdown",
      "source": [
        "Предварительно можно сделать вывод, что наша модель обучена успешно и предоставляет верные предсказания. "
      ],
      "metadata": {
        "id": "vF8dWFhMLfSn"
      }
    },
    {
      "cell_type": "markdown",
      "source": [
        "**6. Воспользоваться MulticlassClassificationEvaluator для оценки качества на train и test\n",
        "множестве**"
      ],
      "metadata": {
        "id": "daNZoafpcGFW"
      }
    },
    {
      "cell_type": "code",
      "source": [
        "#Импортируем метод MulticlassClassificationEvaluator для оценки качества предсказания нашей модели:\n",
        "from pyspark.ml.evaluation import MulticlassClassificationEvaluator\n",
        "\n",
        "#Оцениваем насколько точно были предсказаны значения классификатора 'class_ind' для обучающей и тестовой выборки:\n",
        "ms_ev = MulticlassClassificationEvaluator(labelCol = 'class_ind')\n",
        "\n",
        "train_ev = ms_ev.evaluate(train_iris_df)*100\n",
        "print ('\\033[1m'+'Точность предсказания на обучающей выборке:'+'\\033[0m', __builtin__.round(train_ev,2), '%')\n",
        "\n",
        "test_ev = ms_ev.evaluate(test_iris_df)*100\n",
        "print ('\\033[1m'+'Точность предсказания на тестовой выборке:'+'\\033[0m', __builtin__.round(test_ev,2), '%')"
      ],
      "metadata": {
        "colab": {
          "base_uri": "https://localhost:8080/"
        },
        "id": "DkLl0qNAc6Jf",
        "outputId": "d986575e-1d58-4920-cc17-e5ced6aa1898"
      },
      "execution_count": 77,
      "outputs": [
        {
          "output_type": "stream",
          "name": "stdout",
          "text": [
            "\u001b[1mТочность предсказания на обучающей выборке:\u001b[0m 98.36 %\n",
            "\u001b[1mТочность предсказания на тестовой выборке:\u001b[0m 100.0 %\n"
          ]
        }
      ]
    },
    {
      "cell_type": "markdown",
      "source": [
        "Модель обучена качественно (точность более 98%). Данные, предсказанные  моделью, пригодны для дальнейшего использования. "
      ],
      "metadata": {
        "id": "DRud5jnEhJXG"
      }
    }
  ]
}