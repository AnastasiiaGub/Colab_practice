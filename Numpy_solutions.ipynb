{
  "cells": [
    {
      "cell_type": "markdown",
      "metadata": {
        "id": "DEki0xVF524S"
      },
      "source": [
        "# Упражнения с NumPy \n",
        "\n",
        "Давайте проверим ваши знания. Мы начнем с нескольких простых задач, а затем вам будут заданы несколько более сложных вопросов.\n",
        "\n",
        "Важно! Код, который вы напишите в этом ноутбуке, вам нужно сохранить в виде файла c именем \"Numpy_solutions.ipynb\" в вашем личном репозитории на GitHub."
      ]
    },
    {
      "cell_type": "markdown",
      "metadata": {
        "id": "z6Izq9qr524a"
      },
      "source": [
        "#### 1. Импорт NumPy "
      ]
    },
    {
      "cell_type": "code",
      "execution_count": 1,
      "metadata": {
        "id": "b043yLdQ524b"
      },
      "outputs": [],
      "source": [
        "import numpy as np"
      ]
    },
    {
      "cell_type": "markdown",
      "metadata": {
        "id": "y2ZwXLqD524c"
      },
      "source": [
        "#### 2. Создать массив из 10 нулей"
      ]
    },
    {
      "cell_type": "code",
      "execution_count": 137,
      "metadata": {
        "collapsed": true,
        "id": "rKQNDt1Z524e",
        "colab": {
          "base_uri": "https://localhost:8080/"
        },
        "outputId": "adb7d1b7-3552-4631-982f-80a91faa38f1"
      },
      "outputs": [
        {
          "output_type": "execute_result",
          "data": {
            "text/plain": [
              "array([0., 0., 0., 0., 0., 0., 0., 0., 0., 0.])"
            ]
          },
          "metadata": {},
          "execution_count": 137
        }
      ],
      "source": [
        "np.zeros (10)"
      ]
    },
    {
      "cell_type": "code",
      "execution_count": null,
      "metadata": {
        "id": "0HqMmLGO524h",
        "outputId": "313d0efc-5aab-4260-fb2a-48e580134197"
      },
      "outputs": [
        {
          "data": {
            "text/plain": [
              "array([0., 0., 0., 0., 0., 0., 0., 0., 0., 0.])"
            ]
          },
          "execution_count": 2,
          "metadata": {},
          "output_type": "execute_result"
        }
      ],
      "source": [
        "# не пишите код в этой ячейке"
      ]
    },
    {
      "cell_type": "markdown",
      "metadata": {
        "id": "ZUKKau09524j"
      },
      "source": [
        "#### 3. Создать массив из 10 единиц"
      ]
    },
    {
      "cell_type": "code",
      "execution_count": 138,
      "metadata": {
        "collapsed": true,
        "id": "IrXq1eNC524k",
        "colab": {
          "base_uri": "https://localhost:8080/"
        },
        "outputId": "65f0dc08-03d4-4394-d2c9-ab091f665b25"
      },
      "outputs": [
        {
          "output_type": "execute_result",
          "data": {
            "text/plain": [
              "array([1., 1., 1., 1., 1., 1., 1., 1., 1., 1.])"
            ]
          },
          "metadata": {},
          "execution_count": 138
        }
      ],
      "source": [
        "np.ones (10)"
      ]
    },
    {
      "cell_type": "code",
      "execution_count": null,
      "metadata": {
        "id": "xLeReTxs524l",
        "outputId": "d7b0ff92-3358-400c-e759-151ff1325df2"
      },
      "outputs": [
        {
          "data": {
            "text/plain": [
              "array([1., 1., 1., 1., 1., 1., 1., 1., 1., 1.])"
            ]
          },
          "execution_count": 3,
          "metadata": {},
          "output_type": "execute_result"
        }
      ],
      "source": [
        "# не пишите код в этой ячейке"
      ]
    },
    {
      "cell_type": "markdown",
      "metadata": {
        "id": "kWDOB2uW524m"
      },
      "source": [
        "#### 4. Создать массив из  10 пятерок"
      ]
    },
    {
      "cell_type": "code",
      "execution_count": 4,
      "metadata": {
        "collapsed": true,
        "id": "txtey_O9524o",
        "colab": {
          "base_uri": "https://localhost:8080/"
        },
        "outputId": "74979a11-affd-4285-bb98-8788d6eb7c6d"
      },
      "outputs": [
        {
          "output_type": "execute_result",
          "data": {
            "text/plain": [
              "array([5., 5., 5., 5., 5., 5., 5., 5., 5., 5.])"
            ]
          },
          "metadata": {},
          "execution_count": 4
        }
      ],
      "source": [
        "np.linspace(5, 5, num=10)"
      ]
    },
    {
      "cell_type": "code",
      "execution_count": null,
      "metadata": {
        "id": "VU-kvCBO524p",
        "outputId": "6275e3fa-8813-4172-a462-532089478914"
      },
      "outputs": [
        {
          "data": {
            "text/plain": [
              "array([5., 5., 5., 5., 5., 5., 5., 5., 5., 5.])"
            ]
          },
          "execution_count": 4,
          "metadata": {},
          "output_type": "execute_result"
        }
      ],
      "source": [
        "# не пишите код в этой ячейке"
      ]
    },
    {
      "cell_type": "markdown",
      "metadata": {
        "id": "gXhfGxTn524p"
      },
      "source": [
        "#### 5. Создать массив из целых чисел от 10 до 50"
      ]
    },
    {
      "cell_type": "code",
      "execution_count": 9,
      "metadata": {
        "collapsed": true,
        "id": "O_qMpbVi524q",
        "colab": {
          "base_uri": "https://localhost:8080/"
        },
        "outputId": "1b0f3314-9e22-4ca4-ce2f-2bcc16e5d6a0"
      },
      "outputs": [
        {
          "output_type": "execute_result",
          "data": {
            "text/plain": [
              "array([10, 11, 12, 13, 14, 15, 16, 17, 18, 19, 20, 21, 22, 23, 24, 25, 26,\n",
              "       27, 28, 29, 30, 31, 32, 33, 34, 35, 36, 37, 38, 39, 40, 41, 42, 43,\n",
              "       44, 45, 46, 47, 48, 49, 50])"
            ]
          },
          "metadata": {},
          "execution_count": 9
        }
      ],
      "source": [
        "np.arange(10, 51)"
      ]
    },
    {
      "cell_type": "code",
      "execution_count": null,
      "metadata": {
        "id": "uQP3xn6Z524q",
        "outputId": "f85e79fc-8e8d-4fda-b8b8-3bbab00a972a"
      },
      "outputs": [
        {
          "data": {
            "text/plain": [
              "array([10, 11, 12, 13, 14, 15, 16, 17, 18, 19, 20, 21, 22, 23, 24, 25, 26,\n",
              "       27, 28, 29, 30, 31, 32, 33, 34, 35, 36, 37, 38, 39, 40, 41, 42, 43,\n",
              "       44, 45, 46, 47, 48, 49, 50])"
            ]
          },
          "execution_count": 5,
          "metadata": {},
          "output_type": "execute_result"
        }
      ],
      "source": [
        "# не пишите код в этой ячейке"
      ]
    },
    {
      "cell_type": "markdown",
      "metadata": {
        "id": "7JVq7Trr524r"
      },
      "source": [
        "#### 6. Создать массив из четных числел от 10 до 50"
      ]
    },
    {
      "cell_type": "code",
      "execution_count": 10,
      "metadata": {
        "collapsed": true,
        "id": "-l0hhxDc524r",
        "colab": {
          "base_uri": "https://localhost:8080/"
        },
        "outputId": "874b107f-9317-4878-d0fe-303985039d2f"
      },
      "outputs": [
        {
          "output_type": "execute_result",
          "data": {
            "text/plain": [
              "array([10, 12, 14, 16, 18, 20, 22, 24, 26, 28, 30, 32, 34, 36, 38, 40, 42,\n",
              "       44, 46, 48, 50])"
            ]
          },
          "metadata": {},
          "execution_count": 10
        }
      ],
      "source": [
        "np.arange(10, 51, 2)"
      ]
    },
    {
      "cell_type": "code",
      "execution_count": null,
      "metadata": {
        "id": "fs20B7Ii524s",
        "outputId": "43f764a5-343f-438b-94c1-485a5279592a"
      },
      "outputs": [
        {
          "data": {
            "text/plain": [
              "array([10, 12, 14, 16, 18, 20, 22, 24, 26, 28, 30, 32, 34, 36, 38, 40, 42,\n",
              "       44, 46, 48, 50])"
            ]
          },
          "execution_count": 6,
          "metadata": {},
          "output_type": "execute_result"
        }
      ],
      "source": [
        "# не пишите код в этой ячейке"
      ]
    },
    {
      "cell_type": "markdown",
      "metadata": {
        "id": "qnWRhS7N524s"
      },
      "source": [
        "#### 7. Создать матрицу 3х3 с числами от 0 до 8"
      ]
    },
    {
      "cell_type": "code",
      "execution_count": 136,
      "metadata": {
        "collapsed": true,
        "id": "JZLkX1xw524s",
        "colab": {
          "base_uri": "https://localhost:8080/"
        },
        "outputId": "0e5a209d-fdc6-4ff3-e424-dd41f01e17a3"
      },
      "outputs": [
        {
          "output_type": "execute_result",
          "data": {
            "text/plain": [
              "array([[0, 1, 2],\n",
              "       [3, 4, 5],\n",
              "       [6, 7, 8]])"
            ]
          },
          "metadata": {},
          "execution_count": 136
        }
      ],
      "source": [
        "# Вариант 1\n",
        "mas = [[0,1,2], [3,4,5], [6,7,8]]\n",
        "result = np.array(mas)\n",
        "result\n",
        "\n",
        "# Вариант 2\n",
        "mas = np.arange(9).reshape(3,3)\n",
        "mas"
      ]
    },
    {
      "cell_type": "code",
      "execution_count": null,
      "metadata": {
        "id": "yANsAVJyGK1J",
        "outputId": "692e7101-8ac0-4eb8-8232-8ab134f3bf97"
      },
      "outputs": [
        {
          "data": {
            "text/plain": [
              "array([[0, 1, 2],\n",
              "       [3, 4, 5],\n",
              "       [6, 7, 8]])"
            ]
          },
          "execution_count": 7,
          "metadata": {},
          "output_type": "execute_result"
        }
      ],
      "source": [
        "# не пишите код в этой ячейке"
      ]
    },
    {
      "cell_type": "markdown",
      "metadata": {
        "id": "jZNNgQFC524t"
      },
      "source": [
        "#### 8. Создать единичную матрицу 3x3 "
      ]
    },
    {
      "cell_type": "code",
      "execution_count": 19,
      "metadata": {
        "collapsed": true,
        "id": "I4LE-tF0524t",
        "colab": {
          "base_uri": "https://localhost:8080/"
        },
        "outputId": "995206ce-1fe2-4d2b-da57-23cd9bd7cdd8"
      },
      "outputs": [
        {
          "output_type": "execute_result",
          "data": {
            "text/plain": [
              "array([[1., 0., 0.],\n",
              "       [0., 1., 0.],\n",
              "       [0., 0., 1.]])"
            ]
          },
          "metadata": {},
          "execution_count": 19
        }
      ],
      "source": [
        "k = np.eye(3)\n",
        "k"
      ]
    },
    {
      "cell_type": "code",
      "execution_count": null,
      "metadata": {
        "id": "BEWBoric524u",
        "outputId": "1c7d547c-bfac-422a-86c5-234244a789d3"
      },
      "outputs": [
        {
          "data": {
            "text/plain": [
              "array([[1., 0., 0.],\n",
              "       [0., 1., 0.],\n",
              "       [0., 0., 1.]])"
            ]
          },
          "execution_count": 8,
          "metadata": {},
          "output_type": "execute_result"
        }
      ],
      "source": [
        "# не пишите код в этой ячейке"
      ]
    },
    {
      "cell_type": "markdown",
      "metadata": {
        "id": "Roiy1sLD524u"
      },
      "source": [
        "#### 9. Используйте NumPy для генерации случайного числа от 0 до 1\n",
        "<br>ПРИМЕЧАНИЕ. Значение вашего результата должно отличаться от приведенного ниже."
      ]
    },
    {
      "cell_type": "code",
      "execution_count": 140,
      "metadata": {
        "collapsed": true,
        "id": "I3vb2Azg524v",
        "colab": {
          "base_uri": "https://localhost:8080/"
        },
        "outputId": "3795d87a-94c3-440d-b5f9-72a66799e064"
      },
      "outputs": [
        {
          "output_type": "execute_result",
          "data": {
            "text/plain": [
              "0.3865712826436294"
            ]
          },
          "metadata": {},
          "execution_count": 140
        }
      ],
      "source": [
        "t = np.random.rand()\n",
        "t"
      ]
    },
    {
      "cell_type": "code",
      "execution_count": null,
      "metadata": {
        "id": "upnTVjvT524v",
        "outputId": "75bcee86-445c-4c22-ca56-5334d7cc19a1"
      },
      "outputs": [
        {
          "data": {
            "text/plain": [
              "array([0.65248055])"
            ]
          },
          "execution_count": 9,
          "metadata": {},
          "output_type": "execute_result"
        }
      ],
      "source": [
        "# не пишите код в этой ячейке"
      ]
    },
    {
      "cell_type": "markdown",
      "metadata": {
        "id": "9GkNxhtR524w"
      },
      "source": [
        "#### 10. Используйте NumPy для генерации массива из 25 случайных чисел, взятых из стандартного нормального распределения\n",
        "<br>ПРИМЕЧАНИЕ. Значение вашего результата должно отличаться от приведенного ниже."
      ]
    },
    {
      "cell_type": "code",
      "execution_count": 43,
      "metadata": {
        "collapsed": true,
        "id": "Z0NpLvQD524w",
        "colab": {
          "base_uri": "https://localhost:8080/"
        },
        "outputId": "344c50d0-59e5-408d-c433-dece3793728c"
      },
      "outputs": [
        {
          "output_type": "execute_result",
          "data": {
            "text/plain": [
              "array([-0.38628922, -1.29628544, -0.73523588,  0.57427998,  0.14379547,\n",
              "        0.73908583, -0.3417819 , -0.86058753, -1.99573588,  0.35139168,\n",
              "       -0.05446166,  3.18626262,  0.57436217,  0.58214335, -0.33243754,\n",
              "       -0.4974948 , -1.41971962,  1.46636916, -0.17214999, -0.59266553,\n",
              "        1.0072439 , -0.81906756,  0.10826354,  0.55291254, -0.11927591])"
            ]
          },
          "metadata": {},
          "execution_count": 43
        }
      ],
      "source": [
        "s = np.random.randn(25)\n",
        "s"
      ]
    },
    {
      "cell_type": "code",
      "execution_count": null,
      "metadata": {
        "id": "oA51OpMm524w",
        "outputId": "f57edae5-adea-45ed-f740-7f1b3bdaf3a3"
      },
      "outputs": [
        {
          "data": {
            "text/plain": [
              "array([ 1.80076712, -1.12375847, -0.98524305,  0.11673573,  1.96346762,\n",
              "        1.81378592, -0.33790771,  0.85012656,  0.0100703 , -0.91005957,\n",
              "        0.29064366,  0.69906357,  0.1774377 , -0.61958694, -0.45498611,\n",
              "       -2.0804685 , -0.06778549,  1.06403819,  0.4311884 , -1.09853837,\n",
              "        1.11980469, -0.48751963,  1.32517611, -0.61775122, -0.00622865])"
            ]
          },
          "execution_count": 10,
          "metadata": {},
          "output_type": "execute_result"
        }
      ],
      "source": [
        "# не пишите код в этой ячейке"
      ]
    },
    {
      "cell_type": "markdown",
      "metadata": {
        "id": "fNQCHPyx524x"
      },
      "source": [
        "#### 11. Создайте следующую матрицу:"
      ]
    },
    {
      "cell_type": "code",
      "execution_count": 69,
      "metadata": {
        "collapsed": true,
        "id": "0k_Ua7nf524x",
        "colab": {
          "base_uri": "https://localhost:8080/"
        },
        "outputId": "483d043f-b4ed-475c-c137-64ab26a29059"
      },
      "outputs": [
        {
          "output_type": "execute_result",
          "data": {
            "text/plain": [
              "array([[0.01, 0.02, 0.03, 0.04, 0.05, 0.06, 0.07, 0.08, 0.09, 0.1 ],\n",
              "       [0.11, 0.12, 0.13, 0.14, 0.15, 0.16, 0.17, 0.18, 0.19, 0.2 ],\n",
              "       [0.21, 0.22, 0.23, 0.24, 0.25, 0.26, 0.27, 0.28, 0.29, 0.3 ],\n",
              "       [0.31, 0.32, 0.33, 0.34, 0.35, 0.36, 0.37, 0.38, 0.39, 0.4 ],\n",
              "       [0.41, 0.42, 0.43, 0.44, 0.45, 0.46, 0.47, 0.48, 0.49, 0.5 ],\n",
              "       [0.51, 0.52, 0.53, 0.54, 0.55, 0.56, 0.57, 0.58, 0.59, 0.6 ],\n",
              "       [0.61, 0.62, 0.63, 0.64, 0.65, 0.66, 0.67, 0.68, 0.69, 0.7 ],\n",
              "       [0.71, 0.72, 0.73, 0.74, 0.75, 0.76, 0.77, 0.78, 0.79, 0.8 ],\n",
              "       [0.81, 0.82, 0.83, 0.84, 0.85, 0.86, 0.87, 0.88, 0.89, 0.9 ],\n",
              "       [0.91, 0.92, 0.93, 0.94, 0.95, 0.96, 0.97, 0.98, 0.99, 1.  ]])"
            ]
          },
          "metadata": {},
          "execution_count": 69
        }
      ],
      "source": [
        "arr1 = np.arange(0,1,0.1)\n",
        "arr1 = arr1.reshape((arr1.size),-1)\n",
        "arr2 = np.arange(0.01,0.11,0.01)\n",
        "result11 = arr1 + arr2\n",
        "result11"
      ]
    },
    {
      "cell_type": "code",
      "execution_count": null,
      "metadata": {
        "id": "2i-7Bn8J524y",
        "outputId": "c9e17371-55c8-45b9-a8e4-f52986649f84"
      },
      "outputs": [
        {
          "data": {
            "text/plain": [
              "array([[0.01, 0.02, 0.03, 0.04, 0.05, 0.06, 0.07, 0.08, 0.09, 0.1 ],\n",
              "       [0.11, 0.12, 0.13, 0.14, 0.15, 0.16, 0.17, 0.18, 0.19, 0.2 ],\n",
              "       [0.21, 0.22, 0.23, 0.24, 0.25, 0.26, 0.27, 0.28, 0.29, 0.3 ],\n",
              "       [0.31, 0.32, 0.33, 0.34, 0.35, 0.36, 0.37, 0.38, 0.39, 0.4 ],\n",
              "       [0.41, 0.42, 0.43, 0.44, 0.45, 0.46, 0.47, 0.48, 0.49, 0.5 ],\n",
              "       [0.51, 0.52, 0.53, 0.54, 0.55, 0.56, 0.57, 0.58, 0.59, 0.6 ],\n",
              "       [0.61, 0.62, 0.63, 0.64, 0.65, 0.66, 0.67, 0.68, 0.69, 0.7 ],\n",
              "       [0.71, 0.72, 0.73, 0.74, 0.75, 0.76, 0.77, 0.78, 0.79, 0.8 ],\n",
              "       [0.81, 0.82, 0.83, 0.84, 0.85, 0.86, 0.87, 0.88, 0.89, 0.9 ],\n",
              "       [0.91, 0.92, 0.93, 0.94, 0.95, 0.96, 0.97, 0.98, 0.99, 1.  ]])"
            ]
          },
          "execution_count": 11,
          "metadata": {},
          "output_type": "execute_result"
        }
      ],
      "source": [
        "# не пишите код в этой ячейке"
      ]
    },
    {
      "cell_type": "markdown",
      "metadata": {
        "id": "mCNdH5Z4524y"
      },
      "source": [
        "#### 12. Создайте массив из 20 линейно расположенных точек между 0 и 1:"
      ]
    },
    {
      "cell_type": "code",
      "execution_count": 70,
      "metadata": {
        "collapsed": true,
        "id": "vTsBD2Oe524z",
        "colab": {
          "base_uri": "https://localhost:8080/"
        },
        "outputId": "1dfe4fa2-1b62-4525-d2b3-ab44a7a7f9d7"
      },
      "outputs": [
        {
          "output_type": "execute_result",
          "data": {
            "text/plain": [
              "array([0.        , 0.05263158, 0.10526316, 0.15789474, 0.21052632,\n",
              "       0.26315789, 0.31578947, 0.36842105, 0.42105263, 0.47368421,\n",
              "       0.52631579, 0.57894737, 0.63157895, 0.68421053, 0.73684211,\n",
              "       0.78947368, 0.84210526, 0.89473684, 0.94736842, 1.        ])"
            ]
          },
          "metadata": {},
          "execution_count": 70
        }
      ],
      "source": [
        "w = np.linspace(0,1,20)\n",
        "w"
      ]
    },
    {
      "cell_type": "code",
      "execution_count": null,
      "metadata": {
        "id": "_3kjFr_G524z",
        "outputId": "e6872a8d-a71c-42a7-fca3-5c17167a6d6e"
      },
      "outputs": [
        {
          "data": {
            "text/plain": [
              "array([0.        , 0.05263158, 0.10526316, 0.15789474, 0.21052632,\n",
              "       0.26315789, 0.31578947, 0.36842105, 0.42105263, 0.47368421,\n",
              "       0.52631579, 0.57894737, 0.63157895, 0.68421053, 0.73684211,\n",
              "       0.78947368, 0.84210526, 0.89473684, 0.94736842, 1.        ])"
            ]
          },
          "execution_count": 12,
          "metadata": {},
          "output_type": "execute_result"
        }
      ],
      "source": [
        "# не пишите код в этой ячейке"
      ]
    },
    {
      "cell_type": "markdown",
      "metadata": {
        "id": "QaQ97swr524z"
      },
      "source": [
        "## Numpy индексация и выборка\n",
        "\n",
        "Дана стартовая матрица (обязательно запустите ячейку ниже!). Вам необходимо повторить выходные результаты матрицы:"
      ]
    },
    {
      "cell_type": "code",
      "execution_count": 72,
      "metadata": {
        "id": "tgJE3E2E524z",
        "outputId": "0c7018e8-68a1-4186-8995-886ed2f0223d",
        "colab": {
          "base_uri": "https://localhost:8080/"
        }
      },
      "outputs": [
        {
          "output_type": "execute_result",
          "data": {
            "text/plain": [
              "array([[ 1,  2,  3,  4,  5],\n",
              "       [ 6,  7,  8,  9, 10],\n",
              "       [11, 12, 13, 14, 15],\n",
              "       [16, 17, 18, 19, 20],\n",
              "       [21, 22, 23, 24, 25]])"
            ]
          },
          "metadata": {},
          "execution_count": 72
        }
      ],
      "source": [
        "# это наша стартовая матрица\n",
        "mat = np.arange(1,26).reshape(5,5)\n",
        "mat"
      ]
    },
    {
      "cell_type": "markdown",
      "metadata": {
        "id": "klfZMLZZ5240"
      },
      "source": [
        "#### 13. Напишите код, который воспроизводит вывод, показанный ниже.\n"
      ]
    },
    {
      "cell_type": "code",
      "execution_count": 73,
      "metadata": {
        "collapsed": true,
        "id": "3WAww6Db5240",
        "colab": {
          "base_uri": "https://localhost:8080/"
        },
        "outputId": "43cdfe0c-b087-45d5-e3af-5e337b7977ae"
      },
      "outputs": [
        {
          "output_type": "execute_result",
          "data": {
            "text/plain": [
              "array([[12, 13, 14, 15],\n",
              "       [17, 18, 19, 20],\n",
              "       [22, 23, 24, 25]])"
            ]
          },
          "metadata": {},
          "execution_count": 73
        }
      ],
      "source": [
        "mat [2:,1:]"
      ]
    },
    {
      "cell_type": "code",
      "execution_count": null,
      "metadata": {
        "id": "xM-cL8lG5241",
        "outputId": "c87d86ec-14b3-46f4-f39b-f96f3d7a432c"
      },
      "outputs": [
        {
          "data": {
            "text/plain": [
              "array([[12, 13, 14, 15],\n",
              "       [17, 18, 19, 20],\n",
              "       [22, 23, 24, 25]])"
            ]
          },
          "execution_count": 14,
          "metadata": {},
          "output_type": "execute_result"
        }
      ],
      "source": [
        "# не пишите код в этой ячейке"
      ]
    },
    {
      "cell_type": "markdown",
      "metadata": {
        "id": "gHG_QBLo5241"
      },
      "source": [
        "#### 14. Напишите код, который воспроизводит вывод, показанный ниже."
      ]
    },
    {
      "cell_type": "code",
      "execution_count": 75,
      "metadata": {
        "id": "fvMXe_JZ5242",
        "colab": {
          "base_uri": "https://localhost:8080/"
        },
        "outputId": "9c62c16f-48ff-4ad7-8111-aa9417f88a80"
      },
      "outputs": [
        {
          "output_type": "execute_result",
          "data": {
            "text/plain": [
              "20"
            ]
          },
          "metadata": {},
          "execution_count": 75
        }
      ],
      "source": [
        "mat [3][4]"
      ]
    },
    {
      "cell_type": "code",
      "execution_count": null,
      "metadata": {
        "id": "bv4HjE9w5242",
        "outputId": "13b38d2c-9384-493d-a1f6-6d560eb475d5"
      },
      "outputs": [
        {
          "data": {
            "text/plain": [
              "20"
            ]
          },
          "execution_count": 15,
          "metadata": {},
          "output_type": "execute_result"
        }
      ],
      "source": [
        "# не пишите код в этой ячейке"
      ]
    },
    {
      "cell_type": "markdown",
      "metadata": {
        "id": "EiqSS_PG5242"
      },
      "source": [
        "#### 15. Напишите код, который воспроизводит вывод, показанный ниже."
      ]
    },
    {
      "cell_type": "code",
      "execution_count": 84,
      "metadata": {
        "id": "RKRasqul5242",
        "colab": {
          "base_uri": "https://localhost:8080/"
        },
        "outputId": "769c99c7-7cf7-4f36-b25b-d752888ea9a7"
      },
      "outputs": [
        {
          "output_type": "execute_result",
          "data": {
            "text/plain": [
              "array([[ 2],\n",
              "       [ 7],\n",
              "       [12]])"
            ]
          },
          "metadata": {},
          "execution_count": 84
        }
      ],
      "source": [
        "mat15 = mat [0:3,1]\n",
        "mat15 = mat15.reshape((mat15.size),-1)\n",
        "mat15"
      ]
    },
    {
      "cell_type": "code",
      "execution_count": null,
      "metadata": {
        "id": "1J94UF9z5242",
        "outputId": "d1696268-ae30-4192-d9f4-c72178daf3c5"
      },
      "outputs": [
        {
          "data": {
            "text/plain": [
              "array([[ 2],\n",
              "       [ 7],\n",
              "       [12]])"
            ]
          },
          "execution_count": 16,
          "metadata": {},
          "output_type": "execute_result"
        }
      ],
      "source": [
        "# не пишите код в этой ячейке"
      ]
    },
    {
      "cell_type": "markdown",
      "metadata": {
        "id": "9FgQCXk45243"
      },
      "source": [
        "#### 16. Напишите код, который воспроизводит вывод, показанный ниже."
      ]
    },
    {
      "cell_type": "code",
      "execution_count": 85,
      "metadata": {
        "id": "OrMD87Ef5244",
        "colab": {
          "base_uri": "https://localhost:8080/"
        },
        "outputId": "31ad9999-9e60-4331-b0f2-801ce3c3f943"
      },
      "outputs": [
        {
          "output_type": "execute_result",
          "data": {
            "text/plain": [
              "array([21, 22, 23, 24, 25])"
            ]
          },
          "metadata": {},
          "execution_count": 85
        }
      ],
      "source": [
        "mat [4,:]"
      ]
    },
    {
      "cell_type": "code",
      "execution_count": null,
      "metadata": {
        "id": "x60iphF85244",
        "outputId": "5315f56a-cc1b-4f52-8ba3-bd981fca47b1"
      },
      "outputs": [
        {
          "data": {
            "text/plain": [
              "array([21, 22, 23, 24, 25])"
            ]
          },
          "execution_count": 17,
          "metadata": {},
          "output_type": "execute_result"
        }
      ],
      "source": [
        "# не пишите код в этой ячейке"
      ]
    },
    {
      "cell_type": "markdown",
      "metadata": {
        "id": "C_jA5cqZ5244"
      },
      "source": [
        "#### 17. Напишите код, который воспроизводит вывод, показанный ниже."
      ]
    },
    {
      "cell_type": "code",
      "execution_count": 92,
      "metadata": {
        "id": "Tqypz0aL5245",
        "colab": {
          "base_uri": "https://localhost:8080/"
        },
        "outputId": "32ede2d1-68ef-4647-b406-538e0aa71de1"
      },
      "outputs": [
        {
          "output_type": "execute_result",
          "data": {
            "text/plain": [
              "array([[16, 17, 18, 19, 20],\n",
              "       [21, 22, 23, 24, 25]])"
            ]
          },
          "metadata": {},
          "execution_count": 92
        }
      ],
      "source": [
        "mat [3:,:]"
      ]
    },
    {
      "cell_type": "code",
      "execution_count": null,
      "metadata": {
        "id": "kbipudkC5245",
        "outputId": "bae6c8f3-8a2b-486a-995b-9c5501d34a3f"
      },
      "outputs": [
        {
          "data": {
            "text/plain": [
              "array([[16, 17, 18, 19, 20],\n",
              "       [21, 22, 23, 24, 25]])"
            ]
          },
          "execution_count": 18,
          "metadata": {},
          "output_type": "execute_result"
        }
      ],
      "source": [
        "# не пишите код в этой ячейке"
      ]
    },
    {
      "cell_type": "markdown",
      "metadata": {
        "id": "AMWszwhQ5245"
      },
      "source": [
        "## Операции NumPy "
      ]
    },
    {
      "cell_type": "markdown",
      "metadata": {
        "id": "E87ORbdO5246"
      },
      "source": [
        "#### 18. Получить сумму всех значений в матрице mat"
      ]
    },
    {
      "cell_type": "code",
      "execution_count": 94,
      "metadata": {
        "collapsed": true,
        "id": "yiO3Hkbu5246",
        "colab": {
          "base_uri": "https://localhost:8080/"
        },
        "outputId": "9dfebfce-d500-47d9-fa96-02c72b95c6eb"
      },
      "outputs": [
        {
          "output_type": "execute_result",
          "data": {
            "text/plain": [
              "325"
            ]
          },
          "metadata": {},
          "execution_count": 94
        }
      ],
      "source": [
        "mat.sum()"
      ]
    },
    {
      "cell_type": "code",
      "execution_count": null,
      "metadata": {
        "id": "Ocsegzdg5246",
        "outputId": "c1abed50-f78d-4c04-8e55-f39a543b7194"
      },
      "outputs": [
        {
          "data": {
            "text/plain": [
              "325"
            ]
          },
          "execution_count": 19,
          "metadata": {},
          "output_type": "execute_result"
        }
      ],
      "source": [
        "# не пишите код в этой ячейке"
      ]
    },
    {
      "cell_type": "markdown",
      "metadata": {
        "id": "qIKYMWJ_5246"
      },
      "source": [
        "#### 19. Получить стандартное отклонение в матрице mat"
      ]
    },
    {
      "cell_type": "code",
      "execution_count": 95,
      "metadata": {
        "collapsed": true,
        "id": "WAmRtSVg5248",
        "colab": {
          "base_uri": "https://localhost:8080/"
        },
        "outputId": "74cdca94-ce56-415f-d8ef-469ad534f547"
      },
      "outputs": [
        {
          "output_type": "execute_result",
          "data": {
            "text/plain": [
              "7.211102550927978"
            ]
          },
          "metadata": {},
          "execution_count": 95
        }
      ],
      "source": [
        "mat.std()"
      ]
    },
    {
      "cell_type": "code",
      "execution_count": null,
      "metadata": {
        "id": "elb3fQCR5248",
        "outputId": "71e99888-ec5d-4e33-ed35-af4701bb33e3"
      },
      "outputs": [
        {
          "data": {
            "text/plain": [
              "7.211102550927978"
            ]
          },
          "execution_count": 20,
          "metadata": {},
          "output_type": "execute_result"
        }
      ],
      "source": [
        "# не пишите код в этой ячейке"
      ]
    },
    {
      "cell_type": "markdown",
      "metadata": {
        "id": "INDXip5i5248"
      },
      "source": [
        "#### 20. Получить сумму значений в колонках в матрице mat"
      ]
    },
    {
      "cell_type": "code",
      "execution_count": 98,
      "metadata": {
        "collapsed": true,
        "id": "0ficL_kd5249",
        "colab": {
          "base_uri": "https://localhost:8080/"
        },
        "outputId": "0bd3b78e-9fb6-43c3-a114-dc083fd1833b"
      },
      "outputs": [
        {
          "output_type": "execute_result",
          "data": {
            "text/plain": [
              "array([55, 60, 65, 70, 75])"
            ]
          },
          "metadata": {},
          "execution_count": 98
        }
      ],
      "source": [
        "mat.sum(axis=0)"
      ]
    },
    {
      "cell_type": "code",
      "execution_count": null,
      "metadata": {
        "id": "nDCtX_a25249",
        "outputId": "30b1ebdb-fd63-4c74-c4f4-393460db703d"
      },
      "outputs": [
        {
          "data": {
            "text/plain": [
              "array([55, 60, 65, 70, 75])"
            ]
          },
          "execution_count": 21,
          "metadata": {},
          "output_type": "execute_result"
        }
      ],
      "source": [
        "# не пишите код в этой ячейке"
      ]
    },
    {
      "cell_type": "markdown",
      "metadata": {
        "id": "jhw3xwkY524-"
      },
      "source": [
        "## Бонусный вопрос\n",
        "\n",
        "Есть ли способ гарантировать, что мы всегда получим одинаковые случайные числа?"
      ]
    },
    {
      "cell_type": "code",
      "execution_count": 143,
      "metadata": {
        "collapsed": true,
        "id": "BpfUrnEz524-",
        "colab": {
          "base_uri": "https://localhost:8080/"
        },
        "outputId": "a6110004-39bf-4059-ef5e-623802397c89"
      },
      "outputs": [
        {
          "output_type": "execute_result",
          "data": {
            "text/plain": [
              "array([ 0.05056171,  0.49995133, -0.99590893,  0.69359851, -0.41830152,\n",
              "       -1.58457724, -0.64770677,  0.59857517,  0.33225003, -1.14747663])"
            ]
          },
          "metadata": {},
          "execution_count": 143
        }
      ],
      "source": [
        "# Да, при использовании фиксированного значения random.seed\n",
        "np.random.seed(4)\n",
        "z = np.random.randn(10)\n",
        "z"
      ]
    }
  ],
  "metadata": {
    "anaconda-cloud": {},
    "kernelspec": {
      "display_name": "Python 3",
      "language": "python",
      "name": "python3"
    },
    "language_info": {
      "codemirror_mode": {
        "name": "ipython",
        "version": 3
      },
      "file_extension": ".py",
      "mimetype": "text/x-python",
      "name": "python",
      "nbconvert_exporter": "python",
      "pygments_lexer": "ipython3",
      "version": "3.7.6"
    },
    "colab": {
      "name": "Numpy_solutions",
      "provenance": [],
      "collapsed_sections": []
    }
  },
  "nbformat": 4,
  "nbformat_minor": 0
}